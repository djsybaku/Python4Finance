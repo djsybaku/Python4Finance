{
 "cells": [
  {
   "cell_type": "markdown",
   "metadata": {},
   "source": [
    "# Infrastructure and Tools"
   ]
  },
  {
   "cell_type": "markdown",
   "metadata": {},
   "source": [
    "> Infrastructure is much more important than architecture.\n",
    "\n",
    "> <div style=\"text-align: right\">— Rem Koolhaas </div>"
   ]
  },
  {
   "cell_type": "markdown",
   "metadata": {},
   "source": [
    "In principle, it is those hardware and software components that allow the development and execution of a simple Python script or more complex Python applications."
   ]
  },
  {
   "cell_type": "markdown",
   "metadata": {},
   "source": [
    "We will rather focuses on the following topics:\n",
    "* Deployment\n",
    "* Tools\n",
    "* Best practcies"
   ]
  },
  {
   "cell_type": "markdown",
   "metadata": {
    "collapsed": true
   },
   "source": [
    "## Python Deployment"
   ]
  },
  {
   "cell_type": "markdown",
   "metadata": {},
   "source": [
    "### Anaconda"
   ]
  },
  {
   "cell_type": "markdown",
   "metadata": {},
   "source": [
    "You can download <code>Anaconda</code> for your operating system from the website http://continuum.io/downloads."
   ]
  },
  {
   "cell_type": "markdown",
   "metadata": {},
   "source": [
    "There are a couple of reasons to consider using <code>Anaconda</code> for <code>Python</code> deployment. Among them are:\n",
    "* Libraries/packages\n",
    "* Open source\n",
    "* Cross platform\n",
    "* Seperate installation\n",
    "* Automatic updates\n",
    "* Conda package manager"
   ]
  },
  {
   "cell_type": "markdown",
   "metadata": {},
   "source": [
    "If the installation procedure was successful, you should open a new terminal window and should then be able, for example, to start the <code>Spyder</code> IDE by simply typing in the shell:"
   ]
  },
  {
   "cell_type": "markdown",
   "metadata": {},
   "source": [
    "<code>\n",
    "$ spyder\n",
    "</code>"
   ]
  },
  {
   "cell_type": "markdown",
   "metadata": {},
   "source": [
    "![](Pics4Infra&Tools/picture_01.png)"
   ]
  },
  {
   "cell_type": "code",
   "execution_count": null,
   "metadata": {
    "collapsed": false
   },
   "outputs": [],
   "source": [
    "!conda info"
   ]
  },
  {
   "cell_type": "code",
   "execution_count": null,
   "metadata": {
    "collapsed": false
   },
   "outputs": [],
   "source": [
    "!conda search pytables"
   ]
  },
  {
   "cell_type": "code",
   "execution_count": null,
   "metadata": {
    "collapsed": false
   },
   "outputs": [],
   "source": [
    "!conda list ^pyt"
   ]
  },
  {
   "cell_type": "code",
   "execution_count": null,
   "metadata": {
    "collapsed": false
   },
   "outputs": [],
   "source": [
    "!conda list ^p.*les$"
   ]
  },
  {
   "cell_type": "markdown",
   "metadata": {
    "collapsed": false
   },
   "source": [
    "\n",
    "<code>\n",
    "!conda create -n py33test anaconda=1.9 python=3.3 numpy=1.8 \n",
    "</code>"
   ]
  },
  {
   "cell_type": "markdown",
   "metadata": {},
   "source": [
    "<code>\n",
    "!conda remove py33test\n",
    "</code>"
   ]
  },
  {
   "cell_type": "markdown",
   "metadata": {},
   "source": [
    "<center><strong>MULTIPLE PYTHON ENVIRONMENTS</strong></center>\n",
    "\n",
    "With the conda package manager you can install and use multiple separated Python environments on a single machine. This, among other features, simplifies testing of Python code for compatibility with different Python versions."
   ]
  },
  {
   "cell_type": "markdown",
   "metadata": {},
   "source": [
    "The package manager conda makes Python deployment quite convenient. "
   ]
  },
  {
   "cell_type": "markdown",
   "metadata": {},
   "source": [
    "### Python Quant Platform"
   ]
  },
  {
   "cell_type": "markdown",
   "metadata": {},
   "source": [
    "Why one might like to deploy Python via a web browser?\n",
    "* No needs for installation\n",
    "* Use of (better) remote hardware\n",
    "* Collaboration\n",
    "\n",
    "The <code>Python Quant Platform</code> is a web- and browser-based financial analytics and collaboration platform developed and maintained by [The Python Quants GmbH](http://www.pythonquants.com/). It features the following basic components:\n",
    "* File manager\n",
    "* <code>Linux</code> terminal\n",
    "* <code>Anaconda</code>\n",
    "* <code>Python</code> shell\n",
    "* <code>IPython</code> shell\n",
    "* <code>IPython Notebook</code>\n",
    "* Chat room/forum\n",
    "* Advanced analytics\n",
    "* Standard APIs"
   ]
  },
  {
   "cell_type": "markdown",
   "metadata": {},
   "source": [
    "## Tools"
   ]
  },
  {
   "cell_type": "markdown",
   "metadata": {},
   "source": [
    "The success and popularity of a programming language result to some extent from the tools that are available to work with the language. <code>Python</code> was considered a nice, easy-to-learn and easy-to-use language, but without a compelling set of tools for interactive analytics or development."
   ]
  },
  {
   "cell_type": "markdown",
   "metadata": {},
   "source": [
    "### Pyhton"
   ]
  },
  {
   "cell_type": "markdown",
   "metadata": {
    "collapsed": false
   },
   "source": [
    "![](Pics4Infra&Tools/picture_02.png)"
   ]
  },
  {
   "cell_type": "markdown",
   "metadata": {},
   "source": [
    "### IPython"
   ]
  },
  {
   "cell_type": "markdown",
   "metadata": {},
   "source": [
    "<code>IPython</code> comes in three flavors:\n",
    "* Shell"
   ]
  },
  {
   "cell_type": "markdown",
   "metadata": {},
   "source": [
    "![](Pics4Infra&Tools/picture_03.png)"
   ]
  },
  {
   "cell_type": "markdown",
   "metadata": {},
   "source": [
    "* <code>QT console</code>"
   ]
  },
  {
   "cell_type": "markdown",
   "metadata": {},
   "source": [
    "![](Pics4Infra&Tools/picture_04.png)"
   ]
  },
  {
   "cell_type": "markdown",
   "metadata": {},
   "source": [
    "![](Pics4Infra&Tools/picture_05.png)"
   ]
  },
  {
   "cell_type": "markdown",
   "metadata": {},
   "source": [
    "* <code>Notebook</code>"
   ]
  },
  {
   "cell_type": "markdown",
   "metadata": {},
   "source": [
    "![](Pics4Infra&Tools/picture_06.png)"
   ]
  },
  {
   "cell_type": "markdown",
   "metadata": {},
   "source": [
    "![](Pics4Infra&Tools/picture_07.png)"
   ]
  },
  {
   "cell_type": "markdown",
   "metadata": {},
   "source": [
    "<center><strong>ANALYTICS AND PUBLISHING PLATFORM</strong></center>\n",
    "\n",
    "A major advantage of <code>IPython Notebook</code> is that you can easily publish and share your complete <code>Notebook</code> with others. Once your analytics project with <code>IPython</code> is finished, you can publish it as an <code>HTML</code> page or a <code>PDF</code>, or use the content for a slide presentation."
   ]
  },
  {
   "cell_type": "markdown",
   "metadata": {},
   "source": [
    "#### Markdown and LaTeX"
   ]
  },
  {
   "cell_type": "raw",
   "metadata": {},
   "source": [
    "**bold** prints the text in bold\n",
    "\n",
    "*italic* prints the text in italic\n",
    "\n",
    "_italic_ also prints it in italic\n",
    "\n",
    "**_italic_** bold and italic\n",
    "\n",
    "bullet point lists:\n",
    "\n",
    "*\tfirst_bullet\n",
    "\n",
    "*\tsecond_bullet\n",
    "\n",
    "&ndash; renders to a dash\n",
    "\n",
    "<br> inserts a line break"
   ]
  },
  {
   "cell_type": "markdown",
   "metadata": {},
   "source": [
    "**bold** prints the text in bold\n",
    "\n",
    "*italic* prints the text in italic\n",
    "\n",
    "_italic_ also prints it in italic\n",
    "\n",
    "**_italic_** bold and italic\n",
    "\n",
    "bullet point lists:\n",
    "\n",
    "*\tfirst_bullet\n",
    "\n",
    "*\tsecond_bullet\n",
    "\n",
    "&ndash; renders to a dash\n",
    "\n",
    "<br> inserts a line break"
   ]
  },
  {
   "cell_type": "markdown",
   "metadata": {},
   "source": [
    "The rendering capabilities of <code>IPython</code> are not restricted to the <code>Markdown</code> language. <code>IPython</code> also renders by default mathematical formulae described on the basis of the <code>LaTeX</code> typesetting system, the de facto standard for scientific publishing."
   ]
  },
  {
   "cell_type": "raw",
   "metadata": {},
   "source": [
    "**Equation 2-1**. _Black-Scholes-Merton (1973) index level at maturity_\n",
    "\n",
    "$$ S_{T} = S_{0} \\exp ((r - \\frac{1}{2}\\sigma^2)T + \\sigma \\sqrt{T} z)$$ "
   ]
  },
  {
   "cell_type": "markdown",
   "metadata": {},
   "source": [
    "**Equation 2-1**. _Black-Scholes-Merton (1973) index level at maturity_\n",
    "\n",
    "$$ S_{T} = S_{0} \\exp ((r - \\frac{1}{2}\\sigma^2)T + \\sigma \\sqrt{T} z)$$ "
   ]
  },
  {
   "cell_type": "markdown",
   "metadata": {},
   "source": [
    "#### Magic commands"
   ]
  },
  {
   "cell_type": "markdown",
   "metadata": {},
   "source": [
    "Magic commands are “magic” in the sense that they add some really helpful and powerful functions to the standard <code>Python</code> shell functionality."
   ]
  },
  {
   "cell_type": "code",
   "execution_count": null,
   "metadata": {
    "collapsed": true
   },
   "outputs": [],
   "source": [
    "%magic"
   ]
  },
  {
   "cell_type": "code",
   "execution_count": null,
   "metadata": {
    "collapsed": false
   },
   "outputs": [],
   "source": [
    "%lsmagic"
   ]
  },
  {
   "cell_type": "code",
   "execution_count": null,
   "metadata": {
    "collapsed": true
   },
   "outputs": [],
   "source": [
    "import numpy as np"
   ]
  },
  {
   "cell_type": "code",
   "execution_count": null,
   "metadata": {
    "collapsed": false
   },
   "outputs": [],
   "source": [
    "%time np.sin(np.arange(1000000))"
   ]
  },
  {
   "cell_type": "code",
   "execution_count": null,
   "metadata": {
    "collapsed": false
   },
   "outputs": [],
   "source": [
    "%prun np.sin(np.arange(1000000))"
   ]
  },
  {
   "cell_type": "code",
   "execution_count": null,
   "metadata": {
    "collapsed": false
   },
   "outputs": [],
   "source": [
    "%timeit np.sin(np.arange(1000000))"
   ]
  },
  {
   "cell_type": "markdown",
   "metadata": {},
   "source": [
    "#### System shell commands"
   ]
  },
  {
   "cell_type": "markdown",
   "metadata": {},
   "source": [
    "You can execute command-line/system shell functions directly from an <code>IPython</code> prompt or a <code>Notebook</code> cell. "
   ]
  },
  {
   "cell_type": "code",
   "execution_count": null,
   "metadata": {
    "collapsed": false
   },
   "outputs": [],
   "source": [
    "!ls"
   ]
  },
  {
   "cell_type": "code",
   "execution_count": null,
   "metadata": {
    "collapsed": false
   },
   "outputs": [],
   "source": [
    "!mkdir python4finance"
   ]
  },
  {
   "cell_type": "code",
   "execution_count": null,
   "metadata": {
    "collapsed": false
   },
   "outputs": [],
   "source": [
    "!ls"
   ]
  },
  {
   "cell_type": "code",
   "execution_count": null,
   "metadata": {
    "collapsed": true
   },
   "outputs": [],
   "source": [
    "!rm -rf python4finance"
   ]
  },
  {
   "cell_type": "code",
   "execution_count": null,
   "metadata": {
    "collapsed": false
   },
   "outputs": [],
   "source": [
    "!ls"
   ]
  },
  {
   "cell_type": "markdown",
   "metadata": {},
   "source": [
    "### Spyder"
   ]
  },
  {
   "cell_type": "markdown",
   "metadata": {
    "collapsed": true
   },
   "source": [
    "<code>Spyder</code> has been designed to support rapid, interactive development with <code>Python</code>. However, it also has, for example, a full-fledged editor, more powerful project management and debugging capabilities, and an object and variable inspector as well as a full integration of the <code>IPython</code> shell version. it offers the following:\n",
    "* Highlighting\n",
    "* Introspection\n",
    "* Code browser\n",
    "* Instant code checking\n",
    "* Debugging\n",
    "\n",
    "<code>Spyder</code> provides further helpful functionality:\n",
    "* Consoles\n",
    "* Variable Explorer\n",
    "* Object inspector\n",
    "* Other features"
   ]
  },
  {
   "cell_type": "markdown",
   "metadata": {
    "collapsed": true
   },
   "source": [
    "![](Pics4Infra&Tools/picture_08.png)"
   ]
  }
 ],
 "metadata": {
  "anaconda-cloud": {},
  "kernelspec": {
   "display_name": "Python 3",
   "language": "python",
   "name": "python3"
  },
  "language_info": {
   "codemirror_mode": {
    "name": "ipython",
    "version": 3
   },
   "file_extension": ".py",
   "mimetype": "text/x-python",
   "name": "python",
   "nbconvert_exporter": "python",
   "pygments_lexer": "ipython3",
   "version": "3.6.0"
  }
 },
 "nbformat": 4,
 "nbformat_minor": 2
}
