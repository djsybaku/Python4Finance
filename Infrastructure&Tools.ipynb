{
 "cells": [
  {
   "cell_type": "markdown",
   "metadata": {},
   "source": [
    "# Infrastructure and Tools"
   ]
  },
  {
   "cell_type": "markdown",
   "metadata": {},
   "source": [
    "> Infrastructure is much more important than architecture.\n",
    "\n",
    "> <div style=\"text-align: right\">— Rem Koolhaas </div>"
   ]
  },
  {
   "cell_type": "markdown",
   "metadata": {},
   "source": [
    "In principle, it is those hardware and software components that allow the development and execution of a simple Python script or more complex Python applications."
   ]
  },
  {
   "cell_type": "markdown",
   "metadata": {},
   "source": [
    "We will rather focuses on the following topics:\n",
    "* Deployment\n",
    "* Tools\n",
    "* Best practcies"
   ]
  },
  {
   "cell_type": "markdown",
   "metadata": {
    "collapsed": true
   },
   "source": [
    "## Python Deployment"
   ]
  },
  {
   "cell_type": "markdown",
   "metadata": {},
   "source": [
    "### Anaconda"
   ]
  },
  {
   "cell_type": "markdown",
   "metadata": {},
   "source": [
    "You can download <code>Anaconda</code> for your operating system from the website http://continuum.io/downloads."
   ]
  },
  {
   "cell_type": "markdown",
   "metadata": {},
   "source": [
    "There are a couple of reasons to consider using <code>Anaconda</code> for <code>Python</code> deployment. Among them are:\n",
    "* Libraries/packages\n",
    "* Open source\n",
    "* Cross platform\n",
    "* Seperate installation\n",
    "* Automatic updates\n",
    "* Conda package manager"
   ]
  },
  {
   "cell_type": "markdown",
   "metadata": {},
   "source": [
    "If the installation procedure was successful, you should open a new terminal window and should then be able, for example, to start the <code>Spyder</code> IDE by simply typing in the shell:"
   ]
  },
  {
   "cell_type": "markdown",
   "metadata": {},
   "source": [
    "<code>\n",
    "$ spyder\n",
    "</code>"
   ]
  },
  {
   "cell_type": "markdown",
   "metadata": {},
   "source": [
    "![](Pics4Infra&Tools/picture_01.png)"
   ]
  },
  {
   "cell_type": "code",
   "execution_count": 1,
   "metadata": {
    "collapsed": false
   },
   "outputs": [
    {
     "name": "stdout",
     "output_type": "stream",
     "text": [
      "Current conda install:\r\n",
      "\r\n",
      "               platform : osx-64\r\n",
      "          conda version : 4.3.18\r\n",
      "       conda is private : False\r\n",
      "      conda-env version : 4.3.18\r\n",
      "    conda-build version : 1.21.3\r\n",
      "         python version : 3.5.2.final.0\r\n",
      "       requests version : 2.13.0\r\n",
      "       root environment : /Users/yoonjoonlee/anaconda  (writable)\r\n",
      "    default environment : /Users/yoonjoonlee/anaconda\r\n",
      "       envs directories : /Users/yoonjoonlee/anaconda/envs\r\n",
      "                          /Users/yoonjoonlee/.conda/envs\r\n",
      "          package cache : /Users/yoonjoonlee/anaconda/pkgs\r\n",
      "                          /Users/yoonjoonlee/.conda/pkgs\r\n",
      "           channel URLs : https://repo.continuum.io/pkgs/free/osx-64\r\n",
      "                          https://repo.continuum.io/pkgs/free/noarch\r\n",
      "                          https://repo.continuum.io/pkgs/r/osx-64\r\n",
      "                          https://repo.continuum.io/pkgs/r/noarch\r\n",
      "                          https://repo.continuum.io/pkgs/pro/osx-64\r\n",
      "                          https://repo.continuum.io/pkgs/pro/noarch\r\n",
      "            config file : None\r\n",
      "           offline mode : False\r\n",
      "             user-agent : conda/4.3.18 requests/2.13.0 CPython/3.5.2 Darwin/16.7.0 OSX/10.12.6    \r\n",
      "                UID:GID : 501:20\r\n"
     ]
    }
   ],
   "source": [
    "!conda info"
   ]
  },
  {
   "cell_type": "code",
   "execution_count": 2,
   "metadata": {
    "collapsed": false
   },
   "outputs": [
    {
     "name": "stdout",
     "output_type": "stream",
     "text": [
      "Fetching package metadata .........\n",
      "pytables                     2.4.0                np17py27_0  defaults        \n",
      "                             2.4.0                np17py26_0  defaults        \n",
      "                             2.4.0                np16py27_0  defaults        \n",
      "                             2.4.0                np16py26_0  defaults        \n",
      "                             3.0.0                np17py27_0  defaults        \n",
      "                             3.0.0                np16py26_0  defaults        \n",
      "                             3.0.0                np17py26_0  defaults        \n",
      "                             3.0.0                np16py27_0  defaults        \n",
      "                             3.0.0                np17py26_1  defaults        \n",
      "                             3.0.0                np17py33_1  defaults        \n",
      "                             3.0.0                np16py27_1  defaults        \n",
      "                             3.0.0                np16py26_1  defaults        \n",
      "                             3.0.0                np17py27_1  defaults        \n",
      "                             3.1.0                np18py33_0  defaults        \n",
      "                             3.1.0                np18py26_0  defaults        \n",
      "                             3.1.0                np18py27_0  defaults        \n",
      "                             3.1.1                np18py33_0  defaults        \n",
      "                             3.1.1                np19py34_0  defaults        \n",
      "                             3.1.1                np19py33_0  defaults        \n",
      "                             3.1.1                np18py26_0  defaults        \n",
      "                             3.1.1                np19py26_0  defaults        \n",
      "                             3.1.1                np18py34_0  defaults        \n",
      "                             3.1.1                np18py27_0  defaults        \n",
      "                             3.1.1                np19py27_0  defaults        \n",
      "                             3.1.1                np19py26_2  defaults        \n",
      "                             3.1.1                np19py33_2  defaults        \n",
      "                             3.1.1                np19py27_2  defaults        \n",
      "                             3.1.1                np19py34_2  defaults        \n",
      "                             3.2.0                np19py34_0  defaults        \n",
      "                             3.2.0                np19py26_0  defaults        \n",
      "                             3.2.0                np19py27_0  defaults        \n",
      "                             3.2.0                np19py33_0  defaults        \n",
      "                             3.2.1                np19py27_0  defaults        \n",
      "                             3.2.1                np19py34_0  defaults        \n",
      "                             3.2.1.1              np19py34_0  defaults        \n",
      "                             3.2.1.1              np19py27_0  defaults        \n",
      "                             3.2.1.1              np19py35_0  defaults        \n",
      "                             3.2.2               np110py34_0  defaults        \n",
      "                             3.2.2                np19py34_0  defaults        \n",
      "                             3.2.2               np110py27_0  defaults        \n",
      "                             3.2.2                np19py35_0  defaults        \n",
      "                             3.2.2               np110py35_0  defaults        \n",
      "                             3.2.2                np19py27_0  defaults        \n",
      "                             3.2.2               np110py27_1  defaults        \n",
      "                             3.2.2               np110py34_1  defaults        \n",
      "                             3.2.2               np110py35_1  defaults        \n",
      "                             3.2.2               np111py35_3  defaults        \n",
      "                             3.2.2               np111py34_3  defaults        \n",
      "                             3.2.2               np111py27_3  defaults        \n",
      "                             3.2.2               np110py27_3  defaults        \n",
      "                             3.2.2               np110py34_3  defaults        \n",
      "                             3.2.2               np110py35_3  defaults        \n",
      "                          *  3.2.2               np111py35_4  defaults        \n",
      "                             3.2.2               np111py34_4  defaults        \n",
      "                             3.2.2               np111py27_4  defaults        \n",
      "                             3.2.3.1             np111py34_0  defaults        \n",
      "                             3.2.3.1             np111py27_0  defaults        \n",
      "                             3.2.3.1             np111py35_0  defaults        \n",
      "                             3.3.0               np112py35_0  defaults        \n",
      "                             3.3.0               np113py36_0  defaults        \n",
      "                             3.3.0               np113py27_0  defaults        \n",
      "                             3.3.0               np111py35_0  defaults        \n",
      "                             3.3.0               np112py36_0  defaults        \n",
      "                             3.3.0               np111py34_0  defaults        \n",
      "                             3.3.0               np111py36_0  defaults        \n",
      "                             3.3.0               np111py27_0  defaults        \n",
      "                             3.3.0               np112py27_0  defaults        \n",
      "                             3.3.0               np113py35_0  defaults        \n",
      "                             3.4.2               np112py35_0  defaults        \n",
      "                             3.4.2               np112py36_0  defaults        \n",
      "                             3.4.2               np113py36_0  defaults        \n",
      "                             3.4.2               np112py27_0  defaults        \n",
      "                             3.4.2               np113py35_0  defaults        \n",
      "                             3.4.2               np113py27_0  defaults        \n"
     ]
    }
   ],
   "source": [
    "!conda search pytables"
   ]
  },
  {
   "cell_type": "code",
   "execution_count": 3,
   "metadata": {
    "collapsed": false
   },
   "outputs": [
    {
     "name": "stdout",
     "output_type": "stream",
     "text": [
      "# packages in environment at /Users/yoonjoonlee/anaconda:\n",
      "#\n",
      "pytables                  3.2.2               np111py35_4  \n",
      "pytest                    2.9.2                    py35_0  \n",
      "python                    3.5.2                         0  \n",
      "python-dateutil           2.5.3                    py35_0  \n",
      "python.app                1.2                      py35_4  \n",
      "pytz                      2016.4                   py35_0  \n"
     ]
    }
   ],
   "source": [
    "!conda list ^pyt"
   ]
  },
  {
   "cell_type": "code",
   "execution_count": 4,
   "metadata": {
    "collapsed": false
   },
   "outputs": [
    {
     "name": "stdout",
     "output_type": "stream",
     "text": [
      "# packages in environment at /Users/yoonjoonlee/anaconda:\n",
      "#\n",
      "pytables                  3.2.2               np111py35_4  \n"
     ]
    }
   ],
   "source": [
    "!conda list ^p.*les$"
   ]
  },
  {
   "cell_type": "markdown",
   "metadata": {
    "collapsed": false
   },
   "source": [
    "\n",
    "<code>\n",
    "!conda create -n py33test anaconda=1.9 python=3.3 numpy=1.8 \n",
    "</code>"
   ]
  },
  {
   "cell_type": "markdown",
   "metadata": {},
   "source": [
    "<code>\n",
    "!conda remove py33test\n",
    "</code>"
   ]
  },
  {
   "cell_type": "markdown",
   "metadata": {},
   "source": [
    "<center><strong>MULTIPLE PYTHON ENVIRONMENTS</strong></center>\n",
    "\n",
    "With the conda package manager you can install and use multiple separated Python environments on a single machine. This, among other features, simplifies testing of Python code for compatibility with different Python versions."
   ]
  },
  {
   "cell_type": "markdown",
   "metadata": {},
   "source": [
    "The package manager conda makes Python deployment quite convenient. "
   ]
  },
  {
   "cell_type": "markdown",
   "metadata": {},
   "source": [
    "### Python Quant Platform"
   ]
  },
  {
   "cell_type": "markdown",
   "metadata": {},
   "source": [
    "Why one might like to deploy Python via a web browser?\n",
    "* No needs for installation\n",
    "* Use of (better) remote hardware\n",
    "* Collaboration\n",
    "\n",
    "The <code>Python Quant Platform</code> is a web- and browser-based financial analytics and collaboration platform developed and maintained by [The Python Quants GmbH](http://www.pythonquants.com/). It features the following basic components:\n",
    "* File manager\n",
    "* <code>Linux</code> terminal\n",
    "* <code>Anaconda</code>\n",
    "* <code>Python</code> shell\n",
    "* <code>IPython</code> shell\n",
    "* <code>IPython Notebook</code>\n",
    "* Chat room/forum\n",
    "* Advanced analytics\n",
    "* Standard APIs"
   ]
  },
  {
   "cell_type": "markdown",
   "metadata": {},
   "source": [
    "## Tools"
   ]
  },
  {
   "cell_type": "markdown",
   "metadata": {},
   "source": [
    "The success and popularity of a programming language result to some extent from the tools that are available to work with the language. <code>Python</code> was considered a nice, easy-to-learn and easy-to-use language, but without a compelling set of tools for interactive analytics or development."
   ]
  },
  {
   "cell_type": "markdown",
   "metadata": {},
   "source": [
    "### Pyhton"
   ]
  },
  {
   "cell_type": "markdown",
   "metadata": {
    "collapsed": false
   },
   "source": [
    "![](Pics4Infra&Tools/picture_02.png)"
   ]
  },
  {
   "cell_type": "markdown",
   "metadata": {},
   "source": [
    "### IPython"
   ]
  },
  {
   "cell_type": "markdown",
   "metadata": {},
   "source": [
    "<code>IPython</code> comes in three flavors:\n",
    "* Shell"
   ]
  },
  {
   "cell_type": "markdown",
   "metadata": {},
   "source": [
    "![](Pics4Infra&Tools/picture_03.png)"
   ]
  },
  {
   "cell_type": "markdown",
   "metadata": {},
   "source": [
    "* <code>QT console</code>"
   ]
  },
  {
   "cell_type": "markdown",
   "metadata": {},
   "source": [
    "![](Pics4Infra&Tools/picture_04.png)"
   ]
  },
  {
   "cell_type": "markdown",
   "metadata": {},
   "source": [
    "![](Pics4Infra&Tools/picture_05.png)"
   ]
  },
  {
   "cell_type": "markdown",
   "metadata": {},
   "source": [
    "* <code>Notebook</code>"
   ]
  },
  {
   "cell_type": "markdown",
   "metadata": {},
   "source": [
    "![x](Pics4Infra&Tools/picture_06.png)"
   ]
  },
  {
   "cell_type": "markdown",
   "metadata": {},
   "source": [
    "![](Pics4Infra&Tools/picture_07.png)"
   ]
  },
  {
   "cell_type": "markdown",
   "metadata": {},
   "source": [
    "<center><strong>ANALYTICS AND PUBLISHING PLATFORM</strong></center>\n",
    "\n",
    "A major advantage of <code>IPython Notebook</code> is that you can easily publish and share your complete <code>Notebook</code> with others. Once your analytics project with <code>IPython</code> is finished, you can publish it as an <code>HTML</code> page or a <code>PDF</code>, or use the content for a slide presentation."
   ]
  },
  {
   "cell_type": "markdown",
   "metadata": {},
   "source": [
    "#### Markdown and LaTeX"
   ]
  },
  {
   "cell_type": "raw",
   "metadata": {},
   "source": [
    "**bold** prints the text in bold\n",
    "\n",
    "*italic* prints the text in italic\n",
    "\n",
    "_italic_ also prints it in italic\n",
    "\n",
    "**_italic_** bold and italic\n",
    "\n",
    "bullet point lists:\n",
    "\n",
    "*\tfirst_bullet\n",
    "\n",
    "*\tsecond_bullet\n",
    "\n",
    "&ndash; renders to a dash\n",
    "\n",
    "<br> inserts a line break"
   ]
  },
  {
   "cell_type": "markdown",
   "metadata": {},
   "source": [
    "**bold** prints the text in bold\n",
    "\n",
    "*italic* prints the text in italic\n",
    "\n",
    "_italic_ also prints it in italic\n",
    "\n",
    "**_italic_** bold and italic\n",
    "\n",
    "bullet point lists:\n",
    "\n",
    "*\tfirst_bullet\n",
    "\n",
    "*\tsecond_bullet\n",
    "\n",
    "&ndash; renders to a dash\n",
    "\n",
    "<br> inserts a line break"
   ]
  },
  {
   "cell_type": "markdown",
   "metadata": {},
   "source": [
    "The rendering capabilities of <code>IPython</code> are not restricted to the <code>Markdown</code> language. <code>IPython</code> also renders by default mathematical formulae described on the basis of the <code>LaTeX</code> typesetting system, the de facto standard for scientific publishing."
   ]
  },
  {
   "cell_type": "raw",
   "metadata": {},
   "source": [
    "**Equation 2-1**. _Black-Scholes-Merton (1973) index level at maturity_\n",
    "\n",
    "$$ S_{T} = S_{0} \\exp ((r - \\frac{1}{2}\\sigma^2)T + \\sigma \\sqrt{T} z)$$ "
   ]
  },
  {
   "cell_type": "markdown",
   "metadata": {},
   "source": [
    "**Equation 2-1**. _Black-Scholes-Merton (1973) index level at maturity_\n",
    "\n",
    "$$ S_{T} = S_{0} \\exp ((r - \\frac{1}{2}\\sigma^2)T + \\sigma \\sqrt{T} z)$$ "
   ]
  },
  {
   "cell_type": "markdown",
   "metadata": {},
   "source": [
    "#### Magic commands"
   ]
  },
  {
   "cell_type": "markdown",
   "metadata": {},
   "source": [
    "Magic commands are “magic” in the sense that they add some really helpful and powerful functions to the standard <code>Python</code> shell functionality."
   ]
  },
  {
   "cell_type": "code",
   "execution_count": 5,
   "metadata": {
    "collapsed": true
   },
   "outputs": [],
   "source": [
    "%magic"
   ]
  },
  {
   "cell_type": "code",
   "execution_count": 6,
   "metadata": {
    "collapsed": false
   },
   "outputs": [
    {
     "data": {
      "application/json": {
       "cell": {
        "!": "OSMagics",
        "HTML": "Other",
        "SVG": "Other",
        "bash": "Other",
        "capture": "ExecutionMagics",
        "debug": "ExecutionMagics",
        "file": "Other",
        "html": "DisplayMagics",
        "javascript": "DisplayMagics",
        "latex": "DisplayMagics",
        "perl": "Other",
        "prun": "ExecutionMagics",
        "pypy": "Other",
        "python": "Other",
        "python2": "Other",
        "python3": "Other",
        "ruby": "Other",
        "script": "ScriptMagics",
        "sh": "Other",
        "svg": "DisplayMagics",
        "sx": "OSMagics",
        "system": "OSMagics",
        "time": "ExecutionMagics",
        "timeit": "ExecutionMagics",
        "writefile": "OSMagics"
       },
       "line": {
        "alias": "OSMagics",
        "alias_magic": "BasicMagics",
        "autocall": "AutoMagics",
        "automagic": "AutoMagics",
        "autosave": "KernelMagics",
        "bookmark": "OSMagics",
        "cat": "Other",
        "cd": "OSMagics",
        "clear": "KernelMagics",
        "colors": "BasicMagics",
        "config": "ConfigMagics",
        "connect_info": "KernelMagics",
        "cp": "Other",
        "debug": "ExecutionMagics",
        "dhist": "OSMagics",
        "dirs": "OSMagics",
        "doctest_mode": "BasicMagics",
        "ed": "Other",
        "edit": "KernelMagics",
        "env": "OSMagics",
        "gui": "BasicMagics",
        "hist": "Other",
        "history": "HistoryMagics",
        "install_default_config": "DeprecatedMagics",
        "install_ext": "ExtensionMagics",
        "install_profiles": "DeprecatedMagics",
        "killbgscripts": "ScriptMagics",
        "ldir": "Other",
        "less": "KernelMagics",
        "lf": "Other",
        "lk": "Other",
        "ll": "Other",
        "load": "CodeMagics",
        "load_ext": "ExtensionMagics",
        "loadpy": "CodeMagics",
        "logoff": "LoggingMagics",
        "logon": "LoggingMagics",
        "logstart": "LoggingMagics",
        "logstate": "LoggingMagics",
        "logstop": "LoggingMagics",
        "ls": "Other",
        "lsmagic": "BasicMagics",
        "lx": "Other",
        "macro": "ExecutionMagics",
        "magic": "BasicMagics",
        "man": "KernelMagics",
        "matplotlib": "PylabMagics",
        "mkdir": "Other",
        "more": "KernelMagics",
        "mv": "Other",
        "notebook": "BasicMagics",
        "page": "BasicMagics",
        "pastebin": "CodeMagics",
        "pdb": "ExecutionMagics",
        "pdef": "NamespaceMagics",
        "pdoc": "NamespaceMagics",
        "pfile": "NamespaceMagics",
        "pinfo": "NamespaceMagics",
        "pinfo2": "NamespaceMagics",
        "popd": "OSMagics",
        "pprint": "BasicMagics",
        "precision": "BasicMagics",
        "profile": "BasicMagics",
        "prun": "ExecutionMagics",
        "psearch": "NamespaceMagics",
        "psource": "NamespaceMagics",
        "pushd": "OSMagics",
        "pwd": "OSMagics",
        "pycat": "OSMagics",
        "pylab": "PylabMagics",
        "qtconsole": "KernelMagics",
        "quickref": "BasicMagics",
        "recall": "HistoryMagics",
        "rehashx": "OSMagics",
        "reload_ext": "ExtensionMagics",
        "rep": "Other",
        "rerun": "HistoryMagics",
        "reset": "NamespaceMagics",
        "reset_selective": "NamespaceMagics",
        "rm": "Other",
        "rmdir": "Other",
        "run": "ExecutionMagics",
        "save": "CodeMagics",
        "sc": "OSMagics",
        "set_env": "OSMagics",
        "store": "StoreMagics",
        "sx": "OSMagics",
        "system": "OSMagics",
        "tb": "ExecutionMagics",
        "time": "ExecutionMagics",
        "timeit": "ExecutionMagics",
        "unalias": "OSMagics",
        "unload_ext": "ExtensionMagics",
        "who": "NamespaceMagics",
        "who_ls": "NamespaceMagics",
        "whos": "NamespaceMagics",
        "xdel": "NamespaceMagics",
        "xmode": "BasicMagics"
       }
      },
      "text/plain": [
       "Available line magics:\n",
       "%alias  %alias_magic  %autocall  %automagic  %autosave  %bookmark  %cat  %cd  %clear  %colors  %config  %connect_info  %cp  %debug  %dhist  %dirs  %doctest_mode  %ed  %edit  %env  %gui  %hist  %history  %install_default_config  %install_ext  %install_profiles  %killbgscripts  %ldir  %less  %lf  %lk  %ll  %load  %load_ext  %loadpy  %logoff  %logon  %logstart  %logstate  %logstop  %ls  %lsmagic  %lx  %macro  %magic  %man  %matplotlib  %mkdir  %more  %mv  %notebook  %page  %pastebin  %pdb  %pdef  %pdoc  %pfile  %pinfo  %pinfo2  %popd  %pprint  %precision  %profile  %prun  %psearch  %psource  %pushd  %pwd  %pycat  %pylab  %qtconsole  %quickref  %recall  %rehashx  %reload_ext  %rep  %rerun  %reset  %reset_selective  %rm  %rmdir  %run  %save  %sc  %set_env  %store  %sx  %system  %tb  %time  %timeit  %unalias  %unload_ext  %who  %who_ls  %whos  %xdel  %xmode\n",
       "\n",
       "Available cell magics:\n",
       "%%!  %%HTML  %%SVG  %%bash  %%capture  %%debug  %%file  %%html  %%javascript  %%latex  %%perl  %%prun  %%pypy  %%python  %%python2  %%python3  %%ruby  %%script  %%sh  %%svg  %%sx  %%system  %%time  %%timeit  %%writefile\n",
       "\n",
       "Automagic is ON, % prefix IS NOT needed for line magics."
      ]
     },
     "execution_count": 6,
     "metadata": {},
     "output_type": "execute_result"
    }
   ],
   "source": [
    "%lsmagic"
   ]
  },
  {
   "cell_type": "code",
   "execution_count": 7,
   "metadata": {
    "collapsed": true
   },
   "outputs": [],
   "source": [
    "import numpy as np"
   ]
  },
  {
   "cell_type": "code",
   "execution_count": 8,
   "metadata": {
    "collapsed": false
   },
   "outputs": [
    {
     "name": "stdout",
     "output_type": "stream",
     "text": [
      "CPU times: user 34.8 ms, sys: 10.2 ms, total: 45.1 ms\n",
      "Wall time: 49.3 ms\n"
     ]
    },
    {
     "data": {
      "text/plain": [
       "array([ 0.        ,  0.84147098,  0.90929743, ...,  0.21429647,\n",
       "       -0.70613761, -0.97735203])"
      ]
     },
     "execution_count": 8,
     "metadata": {},
     "output_type": "execute_result"
    }
   ],
   "source": [
    "%time np.sin(np.arange(1000000))"
   ]
  },
  {
   "cell_type": "code",
   "execution_count": 9,
   "metadata": {
    "collapsed": false
   },
   "outputs": [
    {
     "name": "stdout",
     "output_type": "stream",
     "text": [
      " "
     ]
    }
   ],
   "source": [
    "%prun np.sin(np.arange(1000000))"
   ]
  },
  {
   "cell_type": "code",
   "execution_count": 10,
   "metadata": {
    "collapsed": false
   },
   "outputs": [
    {
     "name": "stdout",
     "output_type": "stream",
     "text": [
      "10 loops, best of 3: 30.7 ms per loop\n"
     ]
    }
   ],
   "source": [
    "%timeit np.sin(np.arange(1000000))"
   ]
  },
  {
   "cell_type": "markdown",
   "metadata": {},
   "source": [
    "#### System shell commands"
   ]
  },
  {
   "cell_type": "markdown",
   "metadata": {},
   "source": [
    "You can execute command-line/system shell functions directly from an <code>IPython</code> prompt or a <code>Notebook</code> cell. "
   ]
  },
  {
   "cell_type": "code",
   "execution_count": 11,
   "metadata": {
    "collapsed": false
   },
   "outputs": [
    {
     "name": "stdout",
     "output_type": "stream",
     "text": [
      "Ch_0_1.ipynb               USA Election Map.ipynb\r\n",
      "Ch_0_2.ipynb               Why_Python4Finance.ipynb\r\n",
      "Ch_0_3.ipynb               \u001b[34m__pycache__\u001b[m\u001b[m\r\n",
      "Ch_0_4.ipynb               array_archive.npz\r\n",
      "Ch_1.ipynb                 bsm_functions.py\r\n",
      "Ch_2.ipynb                 bsm_mcs_euro.ipynb\r\n",
      "Ch_3_1.ipynb               bsm_mcs_euro.py\r\n",
      "Ch_3_2.ipynb               ipython_log.py\r\n",
      "Ch_4.ipynb                 mcs_full_vector_numpy.py\r\n",
      "Ch_5.ipynb                 mcs_pure_python.py\r\n",
      "Infrastructure&Tools.ipynb mcs_vector_numpy.py\r\n",
      "Intro_Examples.ipynb       some_module.py\r\n",
      "\u001b[34mPics4Infra&tools\u001b[m\u001b[m           vstoxx_data_31032014.h5\r\n",
      "Pr_0.ipynb\r\n"
     ]
    }
   ],
   "source": [
    "!ls"
   ]
  },
  {
   "cell_type": "code",
   "execution_count": 12,
   "metadata": {
    "collapsed": false
   },
   "outputs": [],
   "source": [
    "!mkdir python4finance"
   ]
  },
  {
   "cell_type": "code",
   "execution_count": 14,
   "metadata": {
    "collapsed": false
   },
   "outputs": [
    {
     "name": "stdout",
     "output_type": "stream",
     "text": [
      "Ch_0_1.ipynb               USA Election Map.ipynb\r\n",
      "Ch_0_2.ipynb               Why_Python4Finance.ipynb\r\n",
      "Ch_0_3.ipynb               \u001b[34m__pycache__\u001b[m\u001b[m\r\n",
      "Ch_0_4.ipynb               array_archive.npz\r\n",
      "Ch_1.ipynb                 bsm_functions.py\r\n",
      "Ch_2.ipynb                 bsm_mcs_euro.ipynb\r\n",
      "Ch_3_1.ipynb               bsm_mcs_euro.py\r\n",
      "Ch_3_2.ipynb               ipython_log.py\r\n",
      "Ch_4.ipynb                 mcs_full_vector_numpy.py\r\n",
      "Ch_5.ipynb                 mcs_pure_python.py\r\n",
      "Infrastructure&Tools.ipynb mcs_vector_numpy.py\r\n",
      "Intro_Examples.ipynb       \u001b[34mpython4finance\u001b[m\u001b[m\r\n",
      "\u001b[34mPics4Infra&tools\u001b[m\u001b[m           some_module.py\r\n",
      "Pr_0.ipynb                 vstoxx_data_31032014.h5\r\n"
     ]
    }
   ],
   "source": [
    "!ls"
   ]
  },
  {
   "cell_type": "code",
   "execution_count": 15,
   "metadata": {
    "collapsed": true
   },
   "outputs": [],
   "source": [
    "!rm -rf python4finance"
   ]
  },
  {
   "cell_type": "code",
   "execution_count": 16,
   "metadata": {
    "collapsed": false
   },
   "outputs": [
    {
     "name": "stdout",
     "output_type": "stream",
     "text": [
      "Ch_0_1.ipynb               USA Election Map.ipynb\r\n",
      "Ch_0_2.ipynb               Why_Python4Finance.ipynb\r\n",
      "Ch_0_3.ipynb               \u001b[34m__pycache__\u001b[m\u001b[m\r\n",
      "Ch_0_4.ipynb               array_archive.npz\r\n",
      "Ch_1.ipynb                 bsm_functions.py\r\n",
      "Ch_2.ipynb                 bsm_mcs_euro.ipynb\r\n",
      "Ch_3_1.ipynb               bsm_mcs_euro.py\r\n",
      "Ch_3_2.ipynb               ipython_log.py\r\n",
      "Ch_4.ipynb                 mcs_full_vector_numpy.py\r\n",
      "Ch_5.ipynb                 mcs_pure_python.py\r\n",
      "Infrastructure&Tools.ipynb mcs_vector_numpy.py\r\n",
      "Intro_Examples.ipynb       some_module.py\r\n",
      "\u001b[34mPics4Infra&tools\u001b[m\u001b[m           vstoxx_data_31032014.h5\r\n",
      "Pr_0.ipynb\r\n"
     ]
    }
   ],
   "source": [
    "!ls"
   ]
  },
  {
   "cell_type": "markdown",
   "metadata": {},
   "source": [
    "### Spyder"
   ]
  },
  {
   "cell_type": "markdown",
   "metadata": {
    "collapsed": true
   },
   "source": [
    "<code>Spyder</code> has been designed to support rapid, interactive development with <code>Python</code>. However, it also has, for example, a full-fledged editor, more powerful project management and debugging capabilities, and an object and variable inspector as well as a full integration of the <code>IPython</code> shell version. it offers the following:\n",
    "* Highlighting\n",
    "* Introspection\n",
    "* Code browser\n",
    "* Instant code checking\n",
    "* Debugging\n",
    "\n",
    "<code>Spyder</code> provides further helpful functionality:\n",
    "* Consoles\n",
    "* Variable Explorer\n",
    "* Object inspector\n",
    "* Other features"
   ]
  },
  {
   "cell_type": "markdown",
   "metadata": {
    "collapsed": true
   },
   "source": [
    "![](Pics4Infra&Tools/picture_08.png)"
   ]
  }
 ],
 "metadata": {
  "anaconda-cloud": {},
  "kernelspec": {
   "display_name": "Python [Root]",
   "language": "python",
   "name": "Python [Root]"
  },
  "language_info": {
   "codemirror_mode": {
    "name": "ipython",
    "version": 3
   },
   "file_extension": ".py",
   "mimetype": "text/x-python",
   "name": "python",
   "nbconvert_exporter": "python",
   "pygments_lexer": "ipython3",
   "version": "3.5.2"
  }
 },
 "nbformat": 4,
 "nbformat_minor": 2
}
