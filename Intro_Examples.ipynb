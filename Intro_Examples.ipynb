{
 "cells": [
  {
   "cell_type": "markdown",
   "metadata": {},
   "source": [
    "# Introductory Examples"
   ]
  },
  {
   "cell_type": "markdown",
   "metadata": {},
   "source": [
    "> Quantitative analysis, as we define it, is the application of mathematical and/or statistical methods to market data.\n",
    "\n",
    "> <div style=\"text-align: right\">— Rem Koolhaas </div>"
   ]
  },
  {
   "cell_type": "markdown",
   "metadata": {},
   "source": [
    "We will dives into some concrete examples from _quantitative finance_ to illustrate how convenient and powerful it is to use <code>Python</code> and its libraries for financial analytics.\n",
    "\n",
    "The examples are:\n",
    "* Implied volatilities\n",
    "* Monte Carlo simulation\n",
    "* Technical analysis"
   ]
  },
  {
   "cell_type": "markdown",
   "metadata": {},
   "source": [
    "## Implied Volatilities"
   ]
  },
  {
   "cell_type": "markdown",
   "metadata": {},
   "source": [
    "Given an option pricing formula like the seminal one of Black-Scholes-Merton (1973), _implied volatilities_ are those volatility values that when put into the formula, give observed market quotes for different option strikes and maturities. Let us first reproduce in Equation 3-1 the famous Black-Scholes-Merton formula for the pricing of European call options on an underlying without dividends."
   ]
  },
  {
   "cell_type": "markdown",
   "metadata": {},
   "source": [
    "**Equation 3-1**. _Black-Scholes-Merton (1973) option pricing formula_\n",
    "\n",
    "$$ C(S_{T}, K, T, T, r, sigma) = S_{t} \\cdot N(d_{1}) - \\exp^{-r(T-t)} \\cdot K \\cdot N(d_{1}) $$ "
   ]
  },
  {
   "cell_type": "markdown",
   "metadata": {},
   "source": [
    "$$ N(d) = \\frac{1}{\\sqrt{(2 \\pi)}} \\int_{-\\infty}^{d}{\\exp^{-\\frac{1}{2}x^{2}}dx}  $$ "
   ]
  },
  {
   "cell_type": "markdown",
   "metadata": {},
   "source": [
    "$$ d_{1} = \\frac{\\log{\\frac{S_{t}}{K}} + (r + \\frac{\\sigma_{2}}{2}) (T - t)}{\\sigma \\sqrt{T - t}} $$"
   ]
  },
  {
   "cell_type": "markdown",
   "metadata": {},
   "source": [
    "$$ d_{2} = \\frac{\\log{\\frac{S_{t}}{K}} + (r - \\frac{\\sigma_{2}}{2}) (T - t)}{\\sigma \\sqrt{T - t}} $$"
   ]
  },
  {
   "cell_type": "markdown",
   "metadata": {},
   "source": [
    "$S_{t}$ = Price/level of the underlying at time t\n",
    "\n",
    "$\\sigma$ = Constant volatility (i.e., standard deviation of returns) of the underlying\n",
    "\n",
    "$K$ = Strike price of the option\n",
    "\n",
    "$T$ = Maturity date of the option\n",
    "\n",
    "$r$ = Constant riskless short rate\n"
   ]
  },
  {
   "cell_type": "markdown",
   "metadata": {},
   "source": [
    "Consider now that an option quote for a European call option C* is given. The implied volatility <sup>imp</sup> is the quantity that solves the implicit Equation 3-2."
   ]
  },
  {
   "cell_type": "markdown",
   "metadata": {},
   "source": [
    "**Equation 3-2**. _Implied volatility given market quote for option_\n",
    "\n",
    "$$ C(S_{T}, K, T, T, r, \\sigma^{imp}) = C^{*} $$ "
   ]
  },
  {
   "cell_type": "markdown",
   "metadata": {},
   "source": [
    "There is no closed-form solution to this equation, such that one has to use a numerical solution procedure like the Newton scheme to estimate the correct solution."
   ]
  },
  {
   "cell_type": "markdown",
   "metadata": {},
   "source": [
    "**Equation 3-3**. _Newton scheme for numerically solving equations_\n",
    "\n",
    "$$ \\sigma_{n+1}^{imp} = \\sigma_{n}^{imp} - \\frac{C(\\sigma_{n}^{imp}) - C^{*}}\n",
    "{\\partial C(\\sigma_{n}^{imp})/\\partial \\sigma_{n}^{imp}} $$"
   ]
  },
  {
   "cell_type": "markdown",
   "metadata": {},
   "source": [
    "The partial derivative of the option pricing formula with respect to the volatility is called Vega and is given in closed form by Equation 3-4."
   ]
  },
  {
   "cell_type": "markdown",
   "metadata": {},
   "source": [
    "**Equation 3-4**. _Vega of a European option in BSM model_\n",
    "\n",
    "$$ \\frac{\\partial C}{\\partial \\sigma} = S_{t} N(d_{1})\\sqrt{T -t} $$"
   ]
  },
  {
   "cell_type": "markdown",
   "metadata": {},
   "source": [
    "**Example 3-1**. _Black-Scholes-Merton (1973) functions_"
   ]
  },
  {
   "cell_type": "raw",
   "metadata": {
    "collapsed": true
   },
   "source": [
    "#\n",
    "# Valuation of European call options in Black-Scholes-Merton model\n",
    "# incl. Vega function and implied volatility estimation\n",
    "# bsm_functions.py\n",
    "#\n",
    "# Analytical Black-Scholes-Merton (BSM) Formula\n",
    "\n",
    "def bsm_call_value(S0, K, T, r, sigma):\n",
    "\n",
    "    '''Valuation of European call option in BSM model.\n",
    "    Analytical formula.\n",
    "\n",
    "    Parameters\n",
    "    ==========\n",
    "    S0 : float\n",
    "        initial stock/index level\n",
    "    K : float\n",
    "        strike price\n",
    "    T : float\n",
    "        maturity date (in year fractions)\n",
    "    r : float\n",
    "        constant risk-free short rate\n",
    "    sigma : float\n",
    "        volatility factor in diffusion term\n",
    "\n",
    "    Returns\n",
    "    =======\n",
    "    value : float\n",
    "        present value of the European call option\n",
    "    '''\n",
    "\n",
    "    from math import log, sqrt, exp\n",
    "    from scipy import stats\n",
    "\n",
    "    S0 = float(S0)\n",
    "    d1 = (log(S0 / K) + (r + 0.5 * sigma ** 2) * T) / (sigma * sqrt(T))\n",
    "    d2 = (log(S0 / K) + (r - 0.5 * sigma ** 2) * T) / (sigma * sqrt(T))\n",
    "    value = (S0 * stats.norm.cdf(d1, 0.0, 1.0)\n",
    "             - K * exp(-r * T) * stats.norm.cdf(d2, 0.0, 1.0))\n",
    "\n",
    "# stats.norm.cdf —> cumulative distribution function\n",
    "#                    for normal distribution\n",
    "    return value"
   ]
  },
  {
   "cell_type": "raw",
   "metadata": {
    "collapsed": false
   },
   "source": [
    "# Vega function\n",
    "\n",
    "def bsm_vega(S0, K, T, r, sigma):\n",
    "\n",
    "    ''' Vega of European option in BSM model.\n",
    "    Parameters\n",
    "    ==========\n",
    "    S0 : float\n",
    "        initial stock/index level\n",
    "    K : float\n",
    "        strike price\n",
    "    T : float\n",
    "        maturity date (in year fractions)\n",
    "    r : float\n",
    "        constant risk-free short rate\n",
    "    sigma : float\n",
    "        volatility factor in diffusion term\n",
    "\n",
    "    Returns\n",
    "    =======\n",
    "    vega : float\n",
    "        partial derivative of BSM formula with respect\n",
    "        to sigma, i.e. Vega\n",
    "    '''\n",
    "\n",
    "    from math import log, sqrt\n",
    "    from scipy import stats\n",
    "\n",
    "    S0 = float(S0)\n",
    "    d1 = (log(S0 / K) + (r + 0.5 * sigma ** 2) * T) / (sigma * sqrt(T))\n",
    "    vega = S0 * stats.norm.cdf(d1, 0.0, 1.0) * sqrt(T)\n",
    "\n",
    "    return vega"
   ]
  },
  {
   "cell_type": "raw",
   "metadata": {
    "collapsed": true
   },
   "source": [
    "# Implied volatility function\n",
    "\n",
    "def bsm_call_imp_vol(S0, K, T, r, C0, sigma_est, it=100):\n",
    "\n",
    "    '''Implied volatility of European call option in BSM model.\n",
    "\n",
    "    Parameters\n",
    "    ==========\n",
    "    S0 : float\n",
    "        initial stock/index level\n",
    "    K : float\n",
    "        strike price\n",
    "    T : float\n",
    "        maturity date (in year fractions)\n",
    "    r : float\n",
    "        constant risk-free short rate\n",
    "    sigma_est : float\n",
    "        estimate of impl. volatility\n",
    "    it : integer\n",
    "        number of iterations\n",
    "\n",
    "    Returns\n",
    "    =======\n",
    "    simga_est : float\n",
    "        numerically estimated implied volatility\n",
    "    '''\n",
    "\n",
    "    for i in range(it):\n",
    "        sigma_est -= ((bsm_call_value(S0, K, T, r, sigma_est) - C0)\n",
    "                      / bsm_vega(S0, K, T, r, sigma_est))\n",
    "\n",
    "    return sigma_est"
   ]
  },
  {
   "cell_type": "markdown",
   "metadata": {},
   "source": [
    "Let us start with the day from which the quotes are taken; i.e., our t = 0 reference day. This is March 31, 2014. At this day, the closing value of the index was V<sub>0</sub> = 17.6639."
   ]
  },
  {
   "cell_type": "code",
   "execution_count": null,
   "metadata": {
    "collapsed": true
   },
   "outputs": [],
   "source": [
    "V0 = 17.6639"
   ]
  },
  {
   "cell_type": "markdown",
   "metadata": {},
   "source": [
    "For the risk-free short rate, we assume a value of r = 0.01 p.a.:"
   ]
  },
  {
   "cell_type": "code",
   "execution_count": null,
   "metadata": {
    "collapsed": true
   },
   "outputs": [],
   "source": [
    "r = 0.01"
   ]
  },
  {
   "cell_type": "markdown",
   "metadata": {},
   "source": [
    "All other input parameters are given by the options data (i.e., T and K) or have to be calculated (i.e., &sigma;<sup>imp</sup>). The data is stored in a <code>pandas DataFrame</code> object and saved in a <code>PyTables</code> database file. "
   ]
  },
  {
   "cell_type": "code",
   "execution_count": null,
   "metadata": {
    "collapsed": false
   },
   "outputs": [],
   "source": [
    "import pandas as pd\n",
    "\n",
    "h5 = pd.HDFStore('vstoxx_data_31032014.h5', 'r') \n",
    "futures_data = h5['futures_data'] # VSTOXX futures data \n",
    "options_data = h5['options_data'] # VSTOXX call option data \n",
    "h5.close()"
   ]
  },
  {
   "cell_type": "code",
   "execution_count": null,
   "metadata": {
    "collapsed": false
   },
   "outputs": [],
   "source": [
    "futures_data"
   ]
  },
  {
   "cell_type": "code",
   "execution_count": null,
   "metadata": {
    "collapsed": false
   },
   "outputs": [],
   "source": [
    "options_data.info()"
   ]
  },
  {
   "cell_type": "code",
   "execution_count": null,
   "metadata": {
    "collapsed": false
   },
   "outputs": [],
   "source": [
    "options_data[['DATE', 'MATURITY', 'TTM', 'STRIKE', 'PRICE']].head()"
   ]
  },
  {
   "cell_type": "code",
   "execution_count": null,
   "metadata": {
    "collapsed": false
   },
   "outputs": [],
   "source": [
    "options_data['IMP_VOL'] = 0.0 # new column for implied volatilities"
   ]
  },
  {
   "cell_type": "code",
   "execution_count": null,
   "metadata": {
    "collapsed": true
   },
   "outputs": [],
   "source": [
    "from bsm_functions import *"
   ]
  },
  {
   "cell_type": "code",
   "execution_count": null,
   "metadata": {
    "collapsed": false
   },
   "outputs": [],
   "source": [
    "tol = 0.5 # tolerance level for moneyness\n",
    "\n",
    "for option in options_data.index:\n",
    "    # iterating over all option quotes\n",
    "    forward = futures_data[futures_data['MATURITY'] == \\\n",
    "                           options_data.loc[option]['MATURITY']]['PRICE'].values[0]\n",
    "    # picking the right futures value\n",
    "    if (forward * (1 - tol) < options_data.loc[option]['STRIKE'] \n",
    "        < forward * (1 + tol)):\n",
    "        # only for options with moneyness within tolerance\n",
    "        imp_vol = bsm_call_imp_vol(\n",
    "            V0,\t# VSTOXX value\n",
    "            options_data.loc[option]['STRIKE'],\n",
    "            options_data.loc[option]['TTM'],\n",
    "            r, # short rate\n",
    "            options_data.loc[option]['PRICE'],\n",
    "            sigma_est=2., # estimate for implied volatility\n",
    "            it=100)\n",
    "        options_data['IMP_VOL'].loc[option] = imp_vol"
   ]
  },
  {
   "cell_type": "code",
   "execution_count": null,
   "metadata": {
    "collapsed": false
   },
   "outputs": [],
   "source": [
    "futures_data['MATURITY']/1000000000\n",
    "    # select the column with name MATURITY"
   ]
  },
  {
   "cell_type": "code",
   "execution_count": null,
   "metadata": {
    "collapsed": false
   },
   "outputs": [],
   "source": [
    "from datetime import datetime\n",
    "datetime.utcfromtimestamp(1397779200000000000/1000000000).strftime('%Y-%m-%d')"
   ]
  },
  {
   "cell_type": "code",
   "execution_count": null,
   "metadata": {
    "collapsed": false
   },
   "outputs": [],
   "source": [
    "options_data.loc[46170]\n",
    "    # select data row for index 46170"
   ]
  },
  {
   "cell_type": "code",
   "execution_count": null,
   "metadata": {
    "collapsed": false
   },
   "outputs": [],
   "source": [
    "options_data.loc[46170]['STRIKE']\n",
    "    # select only the value in column STRIKE\n",
    "    # for index 46170"
   ]
  },
  {
   "cell_type": "markdown",
   "metadata": {},
   "source": [
    "The implied volatilities for the selected options shall now be visualized. "
   ]
  },
  {
   "cell_type": "code",
   "execution_count": null,
   "metadata": {
    "collapsed": false
   },
   "outputs": [],
   "source": [
    "plot_data = options_data[options_data['IMP_VOL'] > 0]"
   ]
  },
  {
   "cell_type": "code",
   "execution_count": null,
   "metadata": {
    "collapsed": false
   },
   "outputs": [],
   "source": [
    "maturities = sorted(set(options_data['MATURITY']))\n",
    "maturities"
   ]
  },
  {
   "cell_type": "code",
   "execution_count": null,
   "metadata": {
    "collapsed": false
   },
   "outputs": [],
   "source": [
    "import matplotlib.pyplot as plt\n",
    "%matplotlib inline\n",
    "\n",
    "plt.figure(figsize=(8, 6))\n",
    "for maturity in maturities:\n",
    "    data = plot_data[options_data.MATURITY == maturity]\n",
    "        # select data for this maturity\n",
    "    plt.plot(data['STRIKE'], data['IMP_VOL'],\n",
    "             label=datetime.utcfromtimestamp(maturity/1000000000).date(), lw=1.5)\n",
    "plt.plot(data['STRIKE'], data['IMP_VOL'], 'r.')\n",
    "plt.grid(True)\n",
    "plt.xlabel('strike')\n",
    "plt.ylabel('implied volatility of volatility')\n",
    "plt.legend()\n",
    "plt.show()"
   ]
  },
  {
   "cell_type": "code",
   "execution_count": null,
   "metadata": {
    "collapsed": false
   },
   "outputs": [],
   "source": [
    "keep = ['PRICE', 'IMP_VOL']\n",
    "group_data = plot_data.groupby(['MATURITY', 'STRIKE'])[keep]\n",
    "group_data"
   ]
  },
  {
   "cell_type": "code",
   "execution_count": null,
   "metadata": {
    "collapsed": false
   },
   "outputs": [],
   "source": [
    "group_data = group_data.sum()\n",
    "group_data.head()"
   ]
  },
  {
   "cell_type": "code",
   "execution_count": null,
   "metadata": {
    "collapsed": false
   },
   "outputs": [],
   "source": [
    "group_data.index.levels"
   ]
  },
  {
   "cell_type": "markdown",
   "metadata": {},
   "source": [
    "## Monte Carlo Simulation"
   ]
  },
  {
   "cell_type": "markdown",
   "metadata": {},
   "source": [
    "Monte Carlo simulation is one of the most important algorithms in finance and numerical science in general. the Monte Carlo method can easily cope with high-dimensional problems where the complexity and computational demand, respectively, generally increase in linear fashion.\n",
    "With the following examples we try to show different implementation strategies in <code>Python</code> and offers three different implementation approaches for a Monte Carlo-based valuation of a European option. The three approaches are:\n",
    "* Pure Python\n",
    "* Vectorized NumPy\n",
    "* Fully Vectorized NumPy"
   ]
  },
  {
   "cell_type": "markdown",
   "metadata": {},
   "source": [
    "The examples are again based on the model economy of Black-Scholes-Merton (1973), where the risky underlying (e.g., a stock price or index level) follows, under risk neutrality, a geometric Brownian motion with a stochastic differential equation (SDE), as in Equation 3-5."
   ]
  },
  {
   "cell_type": "markdown",
   "metadata": {},
   "source": [
    "**Equation 3-5**. _Black-Scholes-Merton (1973) stochastic differential equation_\n",
    "\n",
    "$$ d S_{t} = rS_{t}dt + \\sigma S_{t}dZ_{t} $$"
   ]
  },
  {
   "cell_type": "markdown",
   "metadata": {},
   "source": [
    "**Equation 3-6**. _Euler discretization of SDE_\n",
    "\n",
    "$$ S_{t} = S_{t-\\Delta t} exp((r-\\frac{1}{2}\\sigma^{2})\\Delta t + \\sigma \\sqrt{\\Delta t}z_{t}) $$\n",
    "The variable z is a standard normally distributed random variable, 0 < t < T, a (small enough) time interval. It also holds 0 < t ≤ T with T the final time horizon."
   ]
  },
  {
   "cell_type": "markdown",
   "metadata": {},
   "source": [
    "We parameterize the model with the values S0 = 100, K = 105, T = 1.0, r = 0.05, = 0.2.\n",
    "Using the Black-Scholes-Merton formula as in Equation 3-1 and Example 3-1 from the previous example, we can calculate the exact option value as follows:"
   ]
  },
  {
   "cell_type": "code",
   "execution_count": null,
   "metadata": {
    "collapsed": false
   },
   "outputs": [],
   "source": [
    "## from bsm_functions import bsm_call_value\n",
    "\n",
    "S0 = 100.\n",
    "K = 105.\n",
    "T = 1.0\n",
    "r = 0.05\n",
    "sigma = 0.2\n",
    "bsm_call_value(S0, K, T, r, sigma)"
   ]
  },
  {
   "cell_type": "markdown",
   "metadata": {},
   "source": [
    "To implement a Monte Carlo valuation of the European call option\n",
    "> 1. Divide the time interval [0,T] in equidistant subintervals of length  t.\n",
    "> 2. Start iterating i = 1, 2,…, I.\n",
    ">> 1. For every time step t ∈ {  t, 2  t,…, T}, draw pseudorandom numbers z<sub>t</sub>(i).\n",
    ">> 2. Determine the time T value of the index level ST(i) by applying the pseudo-random numbers time step by time step to the discretization scheme in Equation 3-6.\n",
    ">> 3. Determine the inner value hT of the European call option at T as hT(ST(i)) = max(ST(i) – K,0).\n",
    ">> 4. Iterate until i = I.\n",
    "> 3. Sum up the inner values, average, and discount them back with the riskless short rate according to Equation 3-7.\n"
   ]
  },
  {
   "cell_type": "markdown",
   "metadata": {},
   "source": [
    "Equation 3-7 provides the numerical Monte Carlo estimator for the value of the European call option."
   ]
  },
  {
   "cell_type": "markdown",
   "metadata": {},
   "source": [
    "**Equation 3-7**. _Monte Carlo estimator for European call option_\n",
    "\n",
    "$$ C_{0} \\approx \\exp^{-rT} \\frac{1}{I} \\sum_{I}h_{T}(S_{T}(i))$$"
   ]
  },
  {
   "cell_type": "markdown",
   "metadata": {},
   "source": [
    "### Pure Python"
   ]
  },
  {
   "cell_type": "markdown",
   "metadata": {},
   "source": [
    "Example 3-2 translates the parametrization and the Monte Carlo recipe into pure Python. The code simulates 250,000 paths over 50 time steps."
   ]
  },
  {
   "cell_type": "markdown",
   "metadata": {},
   "source": [
    "**Example 3-2**. _Monte Carlo valuation of European call option with pure Python_"
   ]
  },
  {
   "cell_type": "raw",
   "metadata": {},
   "source": [
    "#\n",
    "# Monte Carlo valuation of European call options with pure Python\n",
    "# mcs_pure_python.py\n",
    "#\n",
    "\n",
    "from time import time\n",
    "from math import exp, sqrt, log\n",
    "from random import gauss, seed\n",
    "\n",
    "seed(20000)\n",
    "t0 = time()\n",
    "\n",
    "# Parameters\n",
    "S0 = 100. # initial value\n",
    "K = 105. # strike price\n",
    "T = 1.0 # maturity\n",
    "r = 0.05 # riskless short rate\n",
    "sigma = 0.2 # volatility\n",
    "M = 50 # number of time steps\n",
    "dt = T / M # length of time interval\n",
    "I = 250000 # number of paths\n",
    "S = []\n",
    "\n",
    "# Simulating I paths with M time steps S = []\n",
    "for i in range(I): \n",
    "    path = []\n",
    "    for t in range(M + 1): \n",
    "        if t == 0:\n",
    "            path.append(S0) \n",
    "        else:\n",
    "            z = gauss(0.0, 1.0)\n",
    "            St = path[t - 1] * exp((r - 0.5 * sigma ** 2) * dt\n",
    "                                   + sigma * sqrt(dt) * z)\n",
    "            path.append(St)\n",
    "    S.append(path)\n",
    "\n",
    "# Calculating the Monte Carlo estimator\n",
    "C0 = exp(-r * T) * sum([max(path[-1] - K, 0) for path in S]) / I\n",
    "\n",
    "# Results output \n",
    "tpy = time() - t0\n",
    "print(\"European Option Value %7.3f\" %C0)\n",
    "print(\"Duration in Seconds %7.3f\" %tpy)"
   ]
  },
  {
   "cell_type": "code",
   "execution_count": null,
   "metadata": {
    "collapsed": false
   },
   "outputs": [],
   "source": [
    "%run mcs_pure_python.py"
   ]
  },
  {
   "cell_type": "code",
   "execution_count": null,
   "metadata": {
    "collapsed": false
   },
   "outputs": [],
   "source": [
    "sum_val = 0.0\n",
    "for path in S:\n",
    "    # C-like iteration for comparison \n",
    "    sum_val += max(path[-1] - K, 0)\n",
    "C0 = exp(-r * T) * sum_val / I\n",
    "round(C0, 3)"
   ]
  },
  {
   "cell_type": "markdown",
   "metadata": {},
   "source": [
    "### Vectorization with NumPy"
   ]
  },
  {
   "cell_type": "markdown",
   "metadata": {},
   "source": [
    "<code>NumPy</code> provides a powerful multidimensional array class, called <code>ndarray</code>, as well as a comprehensive set of functions and methods to manipulate arrays and implement (complex) operations on such objects. From a more general point of view, there are two major benefits of using <code>NumPy</code>:\n",
    "* Syntax\n",
    "* Speed"
   ]
  },
  {
   "cell_type": "markdown",
   "metadata": {},
   "source": [
    "The generally more compact syntax stems from the fact that <code>NumPy</code> brings powerful vectorization and broadcasting capabilities to <code>Python</code>. This is similar to having vector notation in mathematics for large vectors or matrices. "
   ]
  },
  {
   "cell_type": "markdown",
   "metadata": {},
   "source": [
    "$$ \\vec v = \\pmatrix {1 \\\\ 2 \\\\ \\vdots \\\\100} $$\n",
    "\n"
   ]
  },
  {
   "cell_type": "markdown",
   "metadata": {},
   "source": [
    "$$ \\vec u = 2 \\cdot \\vec v = \\pmatrix {2 \\\\ 4 \\\\ \\vdots \\\\200}$$"
   ]
  },
  {
   "cell_type": "code",
   "execution_count": null,
   "metadata": {
    "collapsed": false
   },
   "outputs": [],
   "source": [
    "v = range(1, 6)\n",
    "print(v)"
   ]
  },
  {
   "cell_type": "code",
   "execution_count": null,
   "metadata": {
    "collapsed": false
   },
   "outputs": [],
   "source": [
    "2 * v"
   ]
  },
  {
   "cell_type": "code",
   "execution_count": null,
   "metadata": {
    "collapsed": false
   },
   "outputs": [],
   "source": [
    "2 * list(v)"
   ]
  },
  {
   "cell_type": "code",
   "execution_count": null,
   "metadata": {
    "collapsed": false
   },
   "outputs": [],
   "source": [
    "import numpy as np\n",
    "\n",
    "v = np.arange(1, 6)\n",
    "v"
   ]
  },
  {
   "cell_type": "code",
   "execution_count": null,
   "metadata": {
    "collapsed": false
   },
   "outputs": [],
   "source": [
    "2*v"
   ]
  },
  {
   "cell_type": "markdown",
   "metadata": {},
   "source": [
    "This approach can be beneficially applied to the Monte Carlo algorithm. Example 3-3 provides the respective code, this time making use of <code>NumPy</code>’s vectorization capabilities."
   ]
  },
  {
   "cell_type": "markdown",
   "metadata": {},
   "source": [
    "**Example 3-3**. _Monte Carlo valuation of European call option with NumPy (first version)_"
   ]
  },
  {
   "cell_type": "raw",
   "metadata": {},
   "source": [
    "#\n",
    "# Monte Carlo valuation of European call options with NumPy\n",
    "# mcs_vector_numpy.py\n",
    "#\n",
    "\n",
    "import math\n",
    "import numpy as np\n",
    "from time import time\n",
    "\n",
    "np.random.seed(20000)\n",
    "t0 = time()\n",
    "\n",
    "# Parameters\n",
    "S0 = 100.; K = 105.; T = 1.0; r = 0.05; sigma = 0.2 \n",
    "M = 50; dt = T / M; I = 250000\n",
    "\n",
    "# Simulating I paths with M time steps \n",
    "S = np.zeros((M + 1, I))\n",
    "S[0] = S0\n",
    "\n",
    "for t in range(1, M + 1):\n",
    "    z = np.random.standard_normal(I) # pseudorandom numbers \n",
    "    S[t] = S[t - 1] * np.exp((r - 0.5 * sigma ** 2) * dt\n",
    "                             + sigma * math.sqrt(dt) * z)\n",
    "        # vectorized operation per time step over all paths\n",
    "\n",
    "# Calculating the Monte Carlo estimator\n",
    "C0 = math.exp(-r * T) * np.sum(np.maximum(S[-1] - K, 0)) / I\n",
    "\n",
    "# Results output\n",
    "tnp1 = time() - t0\n",
    "print(\"European Option Value %7.3f\" %C0)\n",
    "print(\"Duration in Seconds %7.3f\" %tnp1)"
   ]
  },
  {
   "cell_type": "code",
   "execution_count": null,
   "metadata": {
    "collapsed": false
   },
   "outputs": [],
   "source": [
    "%run mcs_vector_numpy.py"
   ]
  },
  {
   "cell_type": "code",
   "execution_count": null,
   "metadata": {
    "collapsed": false
   },
   "outputs": [],
   "source": [
    "round(tpy/tnp1, 2)"
   ]
  },
  {
   "cell_type": "markdown",
   "metadata": {},
   "source": [
    "> <center>**VECTORIZATION**</center>\n",
    "\n",
    "> Using vectorization with <code>NumPy</code> generally results in code that is more compact, easier to read (and maintain), and faster to execute. All these aspects are in general important for financial applications."
   ]
  },
  {
   "cell_type": "markdown",
   "metadata": {},
   "source": [
    "### Full Vectorization with Log Euler Scheme"
   ]
  },
  {
   "cell_type": "markdown",
   "metadata": {},
   "source": [
    "This version is completely additive, allowing for an implementation of the Monte Carlo algorithm without any loop on the <code>Python</code> level. "
   ]
  },
  {
   "cell_type": "markdown",
   "metadata": {},
   "source": [
    "**Example 3-4**. _Monte Carlo valuation of European call option with NumPy (second version)_"
   ]
  },
  {
   "cell_type": "raw",
   "metadata": {},
   "source": [
    "#\n",
    "# Monte Carlo valuation of European call options with NumPy (log version)\n",
    "# mcs_full_vector_numpy.py\n",
    "#\n",
    "\n",
    "import math\n",
    "from numpy import *\n",
    "from time import time\n",
    "    # star import for shorter code\n",
    "\n",
    "random.seed(20000)\n",
    "t0 = time()\n",
    "\n",
    "# Parameters\n",
    "S0 = 100.; K = 105.; T = 1.0; r = 0.05; sigma = 0.2 \n",
    "M = 50; dt = T / M; I = 250000\n",
    "\n",
    "# Simulating I paths with M time steps\n",
    "S = S0 * exp(cumsum((r - 0.5 * sigma ** 2) * dt\n",
    "                    + sigma * math.sqrt(dt)\n",
    "                    * random.standard_normal((M + 1, I)), axis=0))\n",
    "\n",
    "# sum instead of cumsum would also do\n",
    "# if only the final values are of interest\n",
    "S[0] = S0\n",
    "\n",
    "# Calculating the Monte Carlo estimator\n",
    "C0 = math.exp(-r * T) * sum(maximum(S[-1] - K, 0)) / I\n",
    "\n",
    "# Results output\n",
    "tnp2 = time() - t0\n",
    "print(\"European Option Value %7.3f\" %C0)\n",
    "print(\"Duration in Seconds %7.3f\" %tnp2)"
   ]
  },
  {
   "cell_type": "code",
   "execution_count": null,
   "metadata": {
    "collapsed": false
   },
   "outputs": [],
   "source": [
    "%run mcs_full_vector_numpy.py"
   ]
  },
  {
   "cell_type": "markdown",
   "metadata": {},
   "source": [
    "### Graphical Analysis"
   ]
  },
  {
   "cell_type": "markdown",
   "metadata": {},
   "source": [
    "Let us have a graphical look at the underlying mechanics. First, we plot the first 10 simulated paths over all time steps. "
   ]
  },
  {
   "cell_type": "code",
   "execution_count": null,
   "metadata": {
    "collapsed": false
   },
   "outputs": [],
   "source": [
    "import matplotlib.pyplot as plt\n",
    "plt.plot(S[:, :10])\n",
    "plt.grid(True)\n",
    "plt.xlabel('time step')\n",
    "plt.ylabel('index level')"
   ]
  },
  {
   "cell_type": "markdown",
   "metadata": {},
   "source": [
    "Second, we want to see the frequency of the simulated index levels at the end of the simulation period. "
   ]
  },
  {
   "cell_type": "code",
   "execution_count": null,
   "metadata": {
    "collapsed": false
   },
   "outputs": [],
   "source": [
    "plt.hist(S[-1], bins=50)\n",
    "plt.grid(True)\n",
    "plt.xlabel('index level')\n",
    "plt.ylabel('frequency')"
   ]
  },
  {
   "cell_type": "markdown",
   "metadata": {},
   "source": [
    "The same type of figure looks completely different for the option’s end-of-period (maturity) inner values."
   ]
  },
  {
   "cell_type": "code",
   "execution_count": null,
   "metadata": {
    "collapsed": false
   },
   "outputs": [],
   "source": [
    "plt.hist(np.maximum(S[-1] - K, 0), bins=50)\n",
    "plt.grid(True)\n",
    "plt.xlabel('option inner value')\n",
    "plt.ylabel('frequency')\n",
    "plt.ylim(0, 50000)"
   ]
  },
  {
   "cell_type": "code",
   "execution_count": null,
   "metadata": {
    "collapsed": false
   },
   "outputs": [],
   "source": [
    "sum(S[-1] < K)"
   ]
  },
  {
   "cell_type": "markdown",
   "metadata": {},
   "source": [
    "## Technical Analysis"
   ]
  },
  {
   "cell_type": "markdown",
   "metadata": {
    "collapsed": true
   },
   "source": [
    "Technical analysis based on historical price information is a typical task finance professionals and interested amateurs engage in. "
   ]
  },
  {
   "cell_type": "markdown",
   "metadata": {},
   "source": [
    "> In finance, technical analysis is a security analysis methodology for forecasting the direction of prices through the study of past market data, primarily price and volume.\n",
    "\n",
    "> <div style=\"text-align: right\">— Wikipedia </div>"
   ]
  },
  {
   "cell_type": "markdown",
   "metadata": {},
   "source": [
    "Our object of study is the benchmark index Standard & Poor’s 500 (S&P 500), which is generally considered to be a good proxy for the _whole_ stock market in the United States. \n",
    "\n",
    "First we need the data to get started. "
   ]
  },
  {
   "cell_type": "code",
   "execution_count": null,
   "metadata": {
    "collapsed": true
   },
   "outputs": [],
   "source": [
    "import numpy as np\n",
    "import pandas as pd\n",
    "import pandas_datareader.data as web"
   ]
  },
  {
   "cell_type": "markdown",
   "metadata": {},
   "source": [
    "> <center>**SCIENTIFIC AND FINANCIAL PYTHON STACK**</center>\n",
    "\n",
    "> In addition to <code>NumPy</code> and <code>SciPy</code>, there are only a couple of important libraries that form the fundamental scientific and financial <code>Python</code> stack. Among them is <code>pandas</code>. Make sure to always have current (stable) versions of these libraries installed "
   ]
  },
  {
   "cell_type": "markdown",
   "metadata": {},
   "source": [
    "The sublibrary pandas_datareader.data contains the function DataReader, which helps with getting financial time series data from different sources and in particular from the popular Yahoo! Finance site. "
   ]
  },
  {
   "cell_type": "code",
   "execution_count": null,
   "metadata": {
    "collapsed": false
   },
   "outputs": [],
   "source": [
    "start='1/1/2000'\n",
    "end='4/14/2014'\n",
    "sp500 = web.DataReader('^GSPC', 'yahoo', start, end)\n",
    "sp500.info()"
   ]
  },
  {
   "cell_type": "markdown",
   "metadata": {},
   "source": [
    "<code>DataReader</code> has connected to the data source via an Internet connection and has given back the time series data for the S&P 500 index, from the first trading day in 2000 until the end date. It has also generated automatically a time index with <code>Timestamp</code> objects."
   ]
  },
  {
   "cell_type": "code",
   "execution_count": null,
   "metadata": {
    "collapsed": false
   },
   "outputs": [],
   "source": [
    "sp500['Close'].plot(grid=True, figsize=(8, 5))"
   ]
  },
  {
   "cell_type": "markdown",
   "metadata": {},
   "source": [
    "The trend strategy we want to implement is based on both a two-month (i.e., 42 trading days) and a one-year (i.e., 252 trading days) trend (i.e., the moving average of the index level for the respective period). "
   ]
  },
  {
   "cell_type": "code",
   "execution_count": null,
   "metadata": {
    "collapsed": false
   },
   "outputs": [],
   "source": [
    "sp500['42d'] = np.round(pd.rolling_mean(sp500['Close'], window=42), 2)\n",
    "sp500['252d'] = np.round(pd.rolling_mean(sp500['Close'], window=252), 2)"
   ]
  },
  {
   "cell_type": "code",
   "execution_count": null,
   "metadata": {
    "collapsed": false
   },
   "outputs": [],
   "source": [
    "from pandas import Series\n",
    "sp500['42d'] = np.round(Series.rolling(sp500['Close'], window=42, center=False).mean())\n",
    "sp500['252d'] = np.round(Series.rolling(sp500['Close'], window=252, center=False).mean())"
   ]
  },
  {
   "cell_type": "code",
   "execution_count": null,
   "metadata": {
    "collapsed": false
   },
   "outputs": [],
   "source": [
    "sp500[['Close', '42d', '252d']].tail()"
   ]
  },
  {
   "cell_type": "markdown",
   "metadata": {},
   "source": [
    "Second, the plotting of the new data."
   ]
  },
  {
   "cell_type": "code",
   "execution_count": null,
   "metadata": {
    "collapsed": false
   },
   "outputs": [],
   "source": [
    "sp500[['Close', '42d', '252d']].plot(grid=True, figsize=(8, 5))"
   ]
  },
  {
   "cell_type": "markdown",
   "metadata": {},
   "source": [
    "Our basic data set is mainly complete, such that we now can devise a rule to generate trading signals. The rule says the following:\n",
    "* Buy signal (go long)- the 42d trend is for the first time SD points above the 252d trend.\n",
    "* Wait (park in cash) - the 42d trend is within a range of +/– SD points around the 252d trend. \n",
    "* Sell signal (go short) - the 42d trend is for the first time SD points below the 252d trend."
   ]
  },
  {
   "cell_type": "code",
   "execution_count": null,
   "metadata": {
    "collapsed": false
   },
   "outputs": [],
   "source": [
    "sp500['42-252'] = sp500['42d'] - sp500['252d'] \n",
    "sp500['42-252'].tail()"
   ]
  },
  {
   "cell_type": "code",
   "execution_count": null,
   "metadata": {
    "collapsed": false
   },
   "outputs": [],
   "source": [
    "sp500['42-252'].head()"
   ]
  },
  {
   "cell_type": "markdown",
   "metadata": {},
   "source": [
    "To make it more formal, we again generate a new column for what we call a _regime_. We assume a value of 50 for the signal threshold:"
   ]
  },
  {
   "cell_type": "code",
   "execution_count": null,
   "metadata": {
    "collapsed": false
   },
   "outputs": [],
   "source": [
    "SD = 50\n",
    "sp500['Regime'] = np.where(sp500['42-252'] > SD, 1, 0)\n",
    "sp500['Regime'] = np.where(sp500['42-252'] < -SD, -1, sp500['Regime'])\n",
    "sp500['Regime'].value_counts()"
   ]
  },
  {
   "cell_type": "code",
   "execution_count": null,
   "metadata": {
    "collapsed": false
   },
   "outputs": [],
   "source": [
    "sp500['Regime'].plot(lw=1.5)\n",
    "plt.ylim([-1.1, 1.1])"
   ]
  },
  {
   "cell_type": "markdown",
   "metadata": {},
   "source": [
    "Based on the respective regime, the investor either is long or short in the market (index) or parks his wealth in cash, which does not bear any interest. This simplified strategy allows us to work with market returns only. The investor makes the market return when he is long\n",
    "(1), makes the negative market returns when he is short (–1), and makes no returns (0) when he parks his wealth in cash. We therefore need the returns first. "
   ]
  },
  {
   "cell_type": "code",
   "execution_count": null,
   "metadata": {
    "collapsed": true
   },
   "outputs": [],
   "source": [
    "sp500['Market'] = np.log(sp500['Close'] / sp500['Close'].shift(1))"
   ]
  },
  {
   "cell_type": "code",
   "execution_count": null,
   "metadata": {
    "collapsed": true
   },
   "outputs": [],
   "source": [
    "sp500['Strategy'] = sp500['Regime'].shift(1) * sp500['Market']"
   ]
  },
  {
   "cell_type": "code",
   "execution_count": null,
   "metadata": {
    "collapsed": false
   },
   "outputs": [],
   "source": [
    "sp500[['Market', 'Strategy']].cumsum().apply(np.exp).plot(grid=True, figsize=(8, 5))"
   ]
  },
  {
   "cell_type": "markdown",
   "metadata": {},
   "source": [
    "> <center>**FINANCIAL TIME SERIES**</center>\n",
    "\n",
    "> Whenever it comes to the analysis of financial time series, consider using <code>pandas</code>. Almost any time series-related problem can be tackled with this powerful library."
   ]
  }
 ],
 "metadata": {
  "anaconda-cloud": {},
  "kernelspec": {
   "display_name": "Python 3",
   "language": "python",
   "name": "python3"
  },
  "language_info": {
   "codemirror_mode": {
    "name": "ipython",
    "version": 3
   },
   "file_extension": ".py",
   "mimetype": "text/x-python",
   "name": "python",
   "nbconvert_exporter": "python",
   "pygments_lexer": "ipython3",
   "version": "3.6.0"
  }
 },
 "nbformat": 4,
 "nbformat_minor": 2
}
