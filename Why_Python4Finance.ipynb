{
 "cells": [
  {
   "cell_type": "markdown",
   "metadata": {},
   "source": [
    "# Why Python For Finance?"
   ]
  },
  {
   "cell_type": "markdown",
   "metadata": {},
   "source": [
    "## What is Python?"
   ]
  },
  {
   "cell_type": "markdown",
   "metadata": {},
   "source": [
    "Python is an **_interpreted_, _object-oriented_, _high-level programming language_** with **_dynamic semantics_**. \n",
    "\n",
    "Its high-level built in data structures, combined with **_dynamic typing_** and **_dynamic binding_**, make it very attractive for **Rapid Application Development**, as well as for use as a **scripting** or **glue** language to connect existing components together. \n",
    "\n",
    "Python’s simple, easy to learn syntax emphasizes **readability** and therefore reduces the cost of program maintenance.\n",
    "\n",
    "Python supports **modules** and **packages**, which encourages program **modularity** and **code reuse**. \n",
    "\n",
    "The Python interpreter and the extensive standard library are available in source or binary form without charge for all major platforms, and can be freely distributed."
   ]
  },
  {
   "cell_type": "markdown",
   "metadata": {},
   "source": [
    "Python is characterized by the following features:\n",
    "- Open source\n",
    "- Interpreted\n",
    "- Multiparadigm\n",
    "- Multipurpose\n",
    "- Corss-platform\n",
    "- Dynamically typed\n",
    "- Indentation aware\n",
    "- Garbage Collecting"
   ]
  },
  {
   "cell_type": "code",
   "execution_count": 1,
   "metadata": {
    "collapsed": false
   },
   "outputs": [
    {
     "name": "stdout",
     "output_type": "stream",
     "text": [
      "The Zen of Python, by Tim Peters\n",
      "\n",
      "Beautiful is better than ugly.\n",
      "Explicit is better than implicit.\n",
      "Simple is better than complex.\n",
      "Complex is better than complicated.\n",
      "Flat is better than nested.\n",
      "Sparse is better than dense.\n",
      "Readability counts.\n",
      "Special cases aren't special enough to break the rules.\n",
      "Although practicality beats purity.\n",
      "Errors should never pass silently.\n",
      "Unless explicitly silenced.\n",
      "In the face of ambiguity, refuse the temptation to guess.\n",
      "There should be one-- and preferably only one --obvious way to do it.\n",
      "Although that way may not be obvious at first unless you're Dutch.\n",
      "Now is better than never.\n",
      "Although never is often better than *right* now.\n",
      "If the implementation is hard to explain, it's a bad idea.\n",
      "If the implementation is easy to explain, it may be a good idea.\n",
      "Namespaces are one honking great idea -- let's do more of those!\n"
     ]
    }
   ],
   "source": [
    "import this"
   ]
  },
  {
   "cell_type": "markdown",
   "metadata": {},
   "source": [
    "### Brief History of Python"
   ]
  },
  {
   "cell_type": "markdown",
   "metadata": {},
   "source": [
    "Development efforts began in the 1980s by **Guido van Rossum** from the Netherlands\n",
    "- Python 0.9.0 released in 1991 (first release)\n",
    "- ...\n",
    "- Python 2.7 released in 2010\n",
    "- ...\n",
    "- Python 3.4 released in 2014\n",
    "- Python 3.6"
   ]
  },
  {
   "cell_type": "markdown",
   "metadata": {},
   "source": [
    "### The Python Ecosystem"
   ]
  },
  {
   "cell_type": "markdown",
   "metadata": {},
   "source": [
    "**Availability of a large number of libraries and tools**\n",
    "\n",
    "These libraries and tools generally have to be _imported_ when needed (e.g., a plotting library) or have to be started as a separate system process (e.g., a Python development environment). \n",
    "\n",
    "_Importing_ means making a library available to the current namespace and the current Python interpreter process."
   ]
  },
  {
   "cell_type": "code",
   "execution_count": 2,
   "metadata": {
    "collapsed": false
   },
   "outputs": [
    {
     "data": {
      "text/plain": [
       "300.0"
      ]
     },
     "execution_count": 2,
     "metadata": {},
     "output_type": "execute_result"
    }
   ],
   "source": [
    "100 * 2.5 + 50"
   ]
  },
  {
   "cell_type": "code",
   "execution_count": 3,
   "metadata": {
    "collapsed": false
   },
   "outputs": [
    {
     "ename": "NameError",
     "evalue": "name 'log' is not defined",
     "output_type": "error",
     "traceback": [
      "\u001b[0;31m---------------------------------------------------------------------------\u001b[0m",
      "\u001b[0;31mNameError\u001b[0m                                 Traceback (most recent call last)",
      "\u001b[0;32m<ipython-input-3-cfa4946d0225>\u001b[0m in \u001b[0;36m<module>\u001b[0;34m()\u001b[0m\n\u001b[0;32m----> 1\u001b[0;31m \u001b[0mlog\u001b[0m\u001b[0;34m(\u001b[0m\u001b[0;36m1\u001b[0m\u001b[0;34m)\u001b[0m\u001b[0;34m\u001b[0m\u001b[0m\n\u001b[0m",
      "\u001b[0;31mNameError\u001b[0m: name 'log' is not defined"
     ]
    }
   ],
   "source": [
    "log(1)"
   ]
  },
  {
   "cell_type": "code",
   "execution_count": 4,
   "metadata": {
    "collapsed": true
   },
   "outputs": [],
   "source": [
    "from math import *"
   ]
  },
  {
   "cell_type": "code",
   "execution_count": 5,
   "metadata": {
    "collapsed": false
   },
   "outputs": [
    {
     "data": {
      "text/plain": [
       "0.0"
      ]
     },
     "execution_count": 5,
     "metadata": {},
     "output_type": "execute_result"
    }
   ],
   "source": [
    "log(1)"
   ]
  },
  {
   "cell_type": "code",
   "execution_count": 6,
   "metadata": {
    "collapsed": true
   },
   "outputs": [],
   "source": [
    "import math"
   ]
  },
  {
   "cell_type": "code",
   "execution_count": 7,
   "metadata": {
    "collapsed": false
   },
   "outputs": [
    {
     "data": {
      "text/plain": [
       "0.0"
      ]
     },
     "execution_count": 7,
     "metadata": {},
     "output_type": "execute_result"
    }
   ],
   "source": [
    "math.log(1)"
   ]
  },
  {
   "cell_type": "markdown",
   "metadata": {},
   "source": [
    "_math_ is a standard Python library available with any installation."
   ]
  },
  {
   "cell_type": "markdown",
   "metadata": {},
   "source": [
    "**IPython** is also sometimes called the killer application of the Python ecosystem."
   ]
  },
  {
   "cell_type": "code",
   "execution_count": 8,
   "metadata": {
    "collapsed": true
   },
   "outputs": [],
   "source": [
    "math.log?"
   ]
  },
  {
   "cell_type": "markdown",
   "metadata": {},
   "source": [
    "IPython comes in three different versions: a _shell_ version, one based on a _QT_ graphical user interface (the _QT console_), and a browser-based version (the _Notebook_). "
   ]
  },
  {
   "cell_type": "markdown",
   "metadata": {},
   "source": [
    "### Python User Spectrum"
   ]
  },
  {
   "cell_type": "markdown",
   "metadata": {},
   "source": [
    "Not only for professional software developers also for the casual developer as well as for domain experts and scientific developers.\n",
    "- _Professional software developers_ find all that they need to efficiently build large applications. Almost all programming paradigms are supported; there are powerful development tools available; and any task can, \n",
    "- _Scientific developers_ or _domain experts_ are generally heavy users of certain libraries and frameworks, have built their own applications that they enhance and optimize over time, and tailor the ecosystem to their specific needs. These groups of users also generally engage in longer interactive sessions, rapidly prototyping new code as well as exploring and visualizing their research and/or domain data sets.\n",
    "- _Casual programmers_ like to use Python generally for specific problems they know that Python has its strengths in."
   ]
  },
  {
   "cell_type": "markdown",
   "metadata": {},
   "source": [
    "### The Scientific Stack"
   ]
  },
  {
   "cell_type": "markdown",
   "metadata": {},
   "source": [
    "The set of libraries:\n",
    "- NumPy\n",
    "- SciPy\n",
    "- matplotlib\n",
    "- Pytables\n",
    "- Pandas"
   ]
  },
  {
   "cell_type": "markdown",
   "metadata": {},
   "source": [
    "## Technology in Finance"
   ]
  },
  {
   "cell_type": "markdown",
   "metadata": {},
   "source": [
    "Contemplate the role of technology in finance\n",
    "\n",
    "In recent years, spurred by innovation and also regulation, banks and other financial institutions like hedge funds have evolved more and more into technology companies instead of being just financial intermediaries."
   ]
  },
  {
   "cell_type": "markdown",
   "metadata": {},
   "source": [
    "### Technology Spending"
   ]
  },
  {
   "cell_type": "markdown",
   "metadata": {},
   "source": [
    "Not only technology is important for the financial industry, but the financial industry is also really important to the technology sector:"
   ]
  },
  {
   "cell_type": "markdown",
   "metadata": {},
   "source": [
    "> Banks will spend 4.2% more on technology in 2014 than they did in 2013, according to IDC analysts. \n",
    "Overall IT spend in financial services globally will exceed \\$430 billion in 2014 and surpass \\$500 billion by 2020, the analysts say. \n",
    "> <div style=\"text-align: right\">— Crosman 2013</div>"
   ]
  },
  {
   "cell_type": "markdown",
   "metadata": {},
   "source": [
    "### Technology as Enabler"
   ]
  },
  {
   "cell_type": "markdown",
   "metadata": {},
   "source": [
    "> Technological innovations have contributed significantly to greater efficiency in the derivatives market. Through innovations in trading technology, trades at Eurex are today executed much faster than ten years ago despite the strong increase in trading volume and the number of quotes … These strong improvements have only been possible due to the constant, high IT investments by derivatives exchanges and clearing houses.\n",
    "\n",
    "> <div style=\"text-align: right\"> — Deutsche Börse Group 2008</div>"
   ]
  },
  {
   "cell_type": "markdown",
   "metadata": {},
   "source": [
    "### Technology and Talent as Barriers to Entry"
   ]
  },
  {
   "cell_type": "markdown",
   "metadata": {},
   "source": [
    "> Aggregated over the total software lifecycle, firms adopting in-house strategies for OTC [derivatives] pricing will require investments between \\$25 million and \\$36 million alone to build, maintain, and enhance a complete derivatives library.\n",
    "\n",
    "> <div style=\"text-align: right\">— Ding 2010 </div>"
   ]
  },
  {
   "cell_type": "markdown",
   "metadata": {},
   "source": [
    "> Meriwether spent \\$20 million on a state-of-the-art computer system and hired a crack team of financial engineers to run the show at LTCM, which set up shop in Greenwich, Connecticut. It was risk management on an industrial level.\n",
    "> <div style=\"text-align: right\"> — Patterson 2010 </div>"
   ]
  },
  {
   "cell_type": "markdown",
   "metadata": {},
   "source": [
    "### Ever-Increasing Speeds, Frequencies, Data Volumes"
   ]
  },
  {
   "cell_type": "markdown",
   "metadata": {},
   "source": [
    "> Renaissance’s Medallion fund gained an astonishing 80 percent in 2008, capitalizing on the market’s extreme volatility with its lightning-fast computers. Jim Simons was the hedge fund world’s top earner for the year, pocketing a cool \\$2.5 billion.\n",
    "\n",
    "> <div style=\"text-align: right\"> — Patterson 2010 </div>"
   ]
  },
  {
   "cell_type": "markdown",
   "metadata": {},
   "source": [
    "A number of challenges:\n",
    "- Data processing\n",
    "- Analytics speed\n",
    "- Theoretical foundations"
   ]
  },
  {
   "cell_type": "markdown",
   "metadata": {},
   "source": [
    "### The Rise of Real-Time Analytics"
   ]
  },
  {
   "cell_type": "markdown",
   "metadata": {},
   "source": [
    "Speeds, frequencies, and data volumes increase at a rapid pace in the industry. In fact, real-time analytics can be considered the industry’s answer to this trend."
   ]
  },
  {
   "cell_type": "markdown",
   "metadata": {},
   "source": [
    "“Financial and data analytics” refers to the discipline of applying software and technology in combination with (possibly advanced) algorithms and methods to gather, process, and analyze data in order to gain insights, to make decisions, or to fulfill regulatory requirements."
   ]
  },
  {
   "cell_type": "markdown",
   "metadata": {},
   "source": [
    "Two major challenges that financial institutions:\n",
    "- Big data\n",
    "- Real-time economy"
   ]
  },
  {
   "cell_type": "markdown",
   "metadata": {},
   "source": [
    "One can observe an interplay between advances in technology and financial/business practice.\n",
    "\n",
    "One major trend in the analytics space has been the utilization of parallel architectures on the CPU (central processing unit) side and massively parallel architectures on the GPGPU (general-purpose graphical processing units) side. "
   ]
  },
  {
   "cell_type": "markdown",
   "metadata": {},
   "source": [
    "## Python for Finance"
   ]
  },
  {
   "cell_type": "markdown",
   "metadata": {},
   "source": [
    "Explain how Python can help in several of the challenges."
   ]
  },
  {
   "cell_type": "markdown",
   "metadata": {
    "collapsed": true
   },
   "source": [
    "### Finance and Python Syntax"
   ]
  },
  {
   "cell_type": "markdown",
   "metadata": {},
   "source": [
    "The Python syntax is generally quite close to the mathematical syntax used to describe scientific problems or financial algorithms. To illustrate this phenomenon, we will consider a Black-Scholes-Merton (BSM) setup (see also later) in which the option’s underlying risk factor follows a geometric Brownian motion. "
   ]
  },
  {
   "cell_type": "markdown",
   "metadata": {},
   "source": [
    "Suppose we have the following numerical parameter values for the valuation:\n",
    "* Initial stock index level S0 = 100\n",
    "* Strike price of the European call option K = 105\n",
    "* Time-to-maturity T = 1 year\n",
    "* Constant, riskless short rate r = 5%\n",
    "* Constant volatility = 20%"
   ]
  },
  {
   "cell_type": "markdown",
   "metadata": {},
   "source": [
    "**Equation 1-1**. _Black-Scholes-Merton (1973) index level at maturity_\n",
    "\n",
    "$$ S_{T} = S_{0} \\exp ((r - \\frac{1}{2}\\sigma^2)T + \\sigma \\sqrt{T} z)$$ "
   ]
  },
  {
   "cell_type": "markdown",
   "metadata": {},
   "source": [
    "An algorithmic description of the Monte Carlo valuation procedure:\n",
    "1. Draw I (pseudo)random numbers z(i), i ∈ {1, 2, …, I}, from the standard normal distribution.\n",
    "2.\tCalculate all resulting index levels at maturity ST(i) for given z(i) and Equation 1-1.\n",
    "3.\tCalculate all inner values of the option at maturity as hT(i) = max(ST(i) – K,0).\n",
    "4.\tEstimate the option present value via the Monte Carlo estimator given in Equation 1-2."
   ]
  },
  {
   "cell_type": "markdown",
   "metadata": {},
   "source": [
    "**Equation 1-2**. _Monte Carlo estimator for European option_\n",
    "\n",
    "$$ C_{0} \\approx e^{-rT} \\frac{1}{I}\\sum_{I}h_{T}(i)$$"
   ]
  },
  {
   "cell_type": "code",
   "execution_count": 9,
   "metadata": {
    "collapsed": true
   },
   "outputs": [],
   "source": [
    "S0 = 100.\n",
    "K = 105.\n",
    "T = 1.0\n",
    "r = 0.05\n",
    "sigma = 0.2"
   ]
  },
  {
   "cell_type": "code",
   "execution_count": 10,
   "metadata": {
    "collapsed": true
   },
   "outputs": [],
   "source": [
    "from numpy import *"
   ]
  },
  {
   "cell_type": "code",
   "execution_count": 11,
   "metadata": {
    "collapsed": true
   },
   "outputs": [],
   "source": [
    "I = 100000"
   ]
  },
  {
   "cell_type": "code",
   "execution_count": 12,
   "metadata": {
    "collapsed": true
   },
   "outputs": [],
   "source": [
    "z = random.standard_normal(I)\n",
    "ST = S0 * exp((r - 0.5 * sigma ** 2) * T + sigma * sqrt(T) * z)\n",
    "hT = maximum(ST - K, 0)\n",
    "C0 = exp(-r * T) * sum(hT) / I"
   ]
  },
  {
   "cell_type": "code",
   "execution_count": 13,
   "metadata": {
    "collapsed": false
   },
   "outputs": [
    {
     "name": "stdout",
     "output_type": "stream",
     "text": [
      "Value of the European Call Option 8.036\n"
     ]
    }
   ],
   "source": [
    "print(\"Value of the European Call Option %5.3f\" %C0)"
   ]
  },
  {
   "cell_type": "markdown",
   "metadata": {},
   "source": [
    "Three aspects are worth considering:\n",
    "* Syntax\n",
    "* Translation\n",
    "* Vectorization"
   ]
  },
  {
   "cell_type": "markdown",
   "metadata": {},
   "source": [
    "If the code is reused regularly, it typically gets organized in so-called modules (or scripts), which are single Python (i.e., text) files with the suffix .py. "
   ]
  },
  {
   "cell_type": "code",
   "execution_count": null,
   "metadata": {
    "collapsed": false
   },
   "outputs": [],
   "source": [
    "#\n",
    "# Monte Carlo valuation of European call option\n",
    "# in Black-Scholes-Merton model\n",
    "# bsm_mcs_euro.py\n",
    "#\n",
    "import numpy as np\n",
    "\n",
    "# Parameter Values\n",
    "S0 = 100.\t# initial index level\n",
    "K = 105.\t# strike price\n",
    "T = 1.0\t# time-to-maturity\n",
    "r = 0.05\t# riskless short rate\n",
    "sigma = 0.2\t# volatility\n",
    "\n",
    "I = 100000\t# number of simulations\n",
    "\n",
    "# Valuation Algorithm\n",
    "z = np.random.standard_normal(I)\t# pseudorandom numbers\n",
    "ST = S0 * np.exp((r - 0.5 * sigma ** 2) * T + sigma * np.sqrt(T) * z)\n",
    "\n",
    "# index values at maturity\n",
    "hT = np.maximum(ST - K, 0)\t# inner values at maturity\n",
    "C0 = np.exp(-r * T) * np.sum(hT) / I\t# Monte Carlo estimator\n",
    "\n",
    "# Result Output\n",
    "print(\"Value of the European Call Option %5.3f\" %C0)"
   ]
  },
  {
   "cell_type": "markdown",
   "metadata": {},
   "source": [
    "* **English** for writing, talking about scientific and financial problems, etc. \n",
    "* **Mathematics** for concisely and exactly describing and modeling abstract aspects, algorithms, complex quantities, etc.\n",
    "* **Python** for technically modeling and implementing abstract aspects, algorithms, complex quantities, etc."
   ]
  },
  {
   "cell_type": "markdown",
   "metadata": {},
   "source": [
    "### Efficiency and Productivity Through Python"
   ]
  },
  {
   "cell_type": "markdown",
   "metadata": {},
   "source": [
    "Benefits from using Python can be measured in three dimensions:\n",
    "* Efficiency\n",
    "* Productivity\n",
    "* Quality"
   ]
  },
  {
   "cell_type": "markdown",
   "metadata": {},
   "source": [
    "Consider a finance student, writing her master’s thesis and interested in Google stock prices. She wants to analyze historical stock price information for, say, five years to see how the volatility of the stock price has fluctuated over time. She wants to find evidence that volatility, in contrast to some typical model assumptions, fluctuates over time and is far from being constant. The results should also be visualized. She mainly has to do the following:\n",
    "* Download Google stock price data from the Web.\n",
    "* Calculate the rolling standard deviation of the log returns (volatility).\n",
    "* Plot the stock price data and the results."
   ]
  },
  {
   "cell_type": "markdown",
   "metadata": {},
   "source": [
    "First, make sure to have available all necessary libraries:"
   ]
  },
  {
   "cell_type": "code",
   "execution_count": 14,
   "metadata": {
    "collapsed": false
   },
   "outputs": [
    {
     "name": "stdout",
     "output_type": "stream",
     "text": [
      "# packages in environment at /Users/yoonjoonlee/anaconda:\n",
      "#\n",
      "_nb_ext_conf              0.2.0                    py35_0  \n",
      "alabaster                 0.7.8                    py35_0  \n",
      "anaconda                  custom                   py35_0  \n",
      "anaconda-client           1.4.0                    py35_0  \n",
      "anaconda-navigator        1.2.1                    py35_0  \n",
      "appdirs                   1.4.3                     <pip>\n",
      "appnope                   0.1.0                    py35_0  \n",
      "appscript                 1.0.1                    py35_0  \n",
      "argcomplete               1.0.0                    py35_1  \n",
      "astropy                   1.2.1               np111py35_0  \n",
      "babel                     2.3.3                    py35_0  \n",
      "backports                 1.0                      py35_0  \n",
      "basemap                   1.0.7               np111py35_0  \n",
      "beautifulsoup4            4.4.1                    py35_0  \n",
      "bitarray                  0.8.1                    py35_0  \n",
      "blaze                     0.10.1                   py35_0  \n",
      "bokeh                     0.12.0                   py35_0  \n",
      "boto                      2.40.0                   py35_0  \n",
      "bottleneck                1.1.0               np111py35_0  \n",
      "cffi                      1.6.0                    py35_0  \n",
      "chest                     0.2.3                    py35_0  \n",
      "click                     6.6                      py35_0  \n",
      "cloudpickle               0.2.1                    py35_0  \n",
      "clyent                    1.2.2                    py35_0  \n",
      "colorama                  0.3.7                    py35_0  \n",
      "conda                     4.3.18                   py35_0  \n",
      "conda-build               1.21.3                   py35_0  \n",
      "conda-env                 2.6.0                         0  \n",
      "configobj                 5.0.6                    py35_0  \n",
      "contextlib2               0.5.3                    py35_0  \n",
      "cryptography              1.4                      py35_0  \n",
      "curl                      7.49.0                        0  \n",
      "cycler                    0.10.0                   py35_0  \n",
      "cython                    0.24                     py35_0  \n",
      "cytoolz                   0.8.0                    py35_0  \n",
      "dask                      0.10.0                   py35_0  \n",
      "datashape                 0.5.2                    py35_0  \n",
      "decorator                 4.0.10                   py35_0  \n",
      "dill                      0.2.5                    py35_0  \n",
      "docutils                  0.12                     py35_2  \n",
      "dynd-python               0.7.2                    py35_0  \n",
      "entrypoints               0.2.2                    py35_0  \n",
      "et_xmlfile                1.0.1                    py35_0  \n",
      "fastcache                 1.0.2                    py35_1  \n",
      "flask                     0.11.1                   py35_0  \n",
      "flask-cors                2.1.2                    py35_0  \n",
      "freetype                  2.5.5                         1  \n",
      "geos                      3.4.2                         0  \n",
      "get_terminal_size         1.0.0                    py35_0  \n",
      "gevent                    1.1.1                    py35_0  \n",
      "greenlet                  0.4.10                   py35_0  \n",
      "h5py                      2.6.0               np111py35_1  \n",
      "hdf5                      1.8.16                        0  \n",
      "heapdict                  1.0.0                    py35_1  \n",
      "idna                      2.1                      py35_0  \n",
      "imagesize                 0.7.1                    py35_0  \n",
      "ipykernel                 4.3.1                    py35_0  \n",
      "ipython                   4.2.0                    py35_1  \n",
      "ipython-sql               0.3.8                     <pip>\n",
      "ipython_genutils          0.1.0                    py35_0  \n",
      "ipywidgets                4.1.1                    py35_0  \n",
      "itsdangerous              0.24                     py35_0  \n",
      "jbig                      2.1                           0  \n",
      "jdcal                     1.2                      py35_1  \n",
      "jedi                      0.9.0                    py35_1  \n",
      "jinja2                    2.8                      py35_1  \n",
      "jpeg                      8d                            1  \n",
      "jsonschema                2.5.1                    py35_0  \n",
      "jupyter                   1.0.0                    py35_3  \n",
      "jupyter_client            4.3.0                    py35_0  \n",
      "jupyter_console           4.1.1                    py35_0  \n",
      "jupyter_core              4.1.0                    py35_0  \n",
      "libdynd                   0.7.2                         0  \n",
      "libpng                    1.6.22                        0  \n",
      "libtiff                   4.0.6                         2  \n",
      "libxml2                   2.9.2                         0  \n",
      "libxslt                   1.1.28                        2  \n",
      "llvmlite                  0.11.0                   py35_0  \n",
      "locket                    0.2.0                    py35_1  \n",
      "lxml                      3.6.0                    py35_0  \n",
      "markupsafe                0.23                     py35_2  \n",
      "matplotlib                1.5.1               np111py35_0  \n",
      "mistune                   0.7.2                    py35_1  \n",
      "mkl                       11.3.3                        0  \n",
      "mkl-service               1.1.2                    py35_2  \n",
      "mpmath                    0.19                     py35_1  \n",
      "multipledispatch          0.4.8                    py35_0  \n",
      "nb_anacondacloud          1.1.0                    py35_0  \n",
      "nb_conda                  1.1.0                    py35_0  \n",
      "nb_conda_kernels          1.0.3                    py35_0  \n",
      "nbconvert                 4.2.0                    py35_0  \n",
      "nbformat                  4.0.1                    py35_0  \n",
      "nbpresent                 3.0.2                    py35_0  \n",
      "networkx                  1.11                     py35_0  \n",
      "nltk                      3.2.1                    py35_0  \n",
      "nose                      1.3.7                    py35_1  \n",
      "notebook                  4.2.1                    py35_0  \n",
      "numba                     0.26.0              np111py35_0  \n",
      "numexpr                   2.6.0               np111py35_0  \n",
      "numpy                     1.11.1                   py35_0  \n",
      "odo                       0.5.0                    py35_1  \n",
      "openpyxl                  2.3.2                    py35_0  \n",
      "openssl                   1.0.2h                        1  \n",
      "packaging                 16.8                      <pip>\n",
      "pandas                    0.18.1              np111py35_0  \n",
      "pandas-datareader         0.3.0.post0               <pip>\n",
      "partd                     0.3.4                    py35_0  \n",
      "path.py                   8.2.1                    py35_0  \n",
      "pathlib2                  2.1.0                    py35_0  \n",
      "patsy                     0.4.1                    py35_0  \n",
      "pep8                      1.7.0                    py35_0  \n",
      "pexpect                   4.0.1                    py35_0  \n",
      "pickleshare               0.7.4                     <pip>\n",
      "pickleshare               0.7.2                    py35_0  \n",
      "pillow                    3.2.0                    py35_1  \n",
      "pip                       9.0.1                     <pip>\n",
      "pip                       8.1.2                    py35_0  \n",
      "ply                       3.8                      py35_0  \n",
      "prettytable               0.7.2                     <pip>\n",
      "psutil                    4.3.0                    py35_0  \n",
      "ptyprocess                0.5.1                    py35_0  \n",
      "py                        1.4.31                   py35_0  \n",
      "pyasn1                    0.1.9                    py35_0  \n",
      "pycosat                   0.6.1                    py35_1  \n",
      "pycparser                 2.14                     py35_1  \n",
      "pycrypto                  2.6.1                    py35_4  \n",
      "pycurl                    7.43.0                   py35_0  \n",
      "pyflakes                  1.2.3                    py35_0  \n",
      "pygments                  2.1.3                    py35_0  \n",
      "pymongo                   3.4.0                     <pip>\n",
      "pyopenssl                 16.2.0                   py35_0  \n",
      "pyparsing                 2.2.0                     <pip>\n",
      "pyparsing                 2.1.4                    py35_0  \n",
      "pyqt                      4.11.4                   py35_3  \n",
      "pyshp                     1.2.10                    <pip>\n",
      "pytables                  3.2.2               np111py35_4  \n",
      "pytest                    2.9.2                    py35_0  \n",
      "python                    3.5.2                         0  \n",
      "python-dateutil           2.5.3                    py35_0  \n",
      "python.app                1.2                      py35_4  \n",
      "pytz                      2016.4                   py35_0  \n",
      "pyyaml                    3.11                     py35_4  \n",
      "pyzmq                     15.2.0                   py35_1  \n",
      "qt                        4.8.7                         3  \n",
      "qtconsole                 4.2.1                    py35_0  \n",
      "qtpy                      1.0.2                    py35_0  \n",
      "readline                  6.2                           2  \n",
      "redis                     3.2.0                         0  \n",
      "redis-py                  2.10.5                   py35_0  \n",
      "requests                  2.13.0                   py35_0  \n",
      "requests-file             1.4.1                     <pip>\n",
      "requests-ftp              0.3.1                     <pip>\n",
      "rope                      0.9.4                    py35_1  \n",
      "ruamel_yaml               0.11.14                  py35_1  \n",
      "scikit-image              0.12.3              np111py35_1  \n",
      "scikit-learn              0.17.1              np111py35_2  \n",
      "scipy                     0.17.1              np111py35_1  \n",
      "setuptools                23.0.0                   py35_0  \n",
      "simplegeneric             0.8.1                    py35_1  \n",
      "singledispatch            3.4.0.3                  py35_0  \n",
      "sip                       4.16.9                   py35_0  \n",
      "six                       1.10.0                   py35_0  \n",
      "snowballstemmer           1.2.1                    py35_0  \n",
      "sockjs-tornado            1.0.3                    py35_0  \n",
      "sphinx                    1.4.1                    py35_0  \n",
      "sphinx_rtd_theme          0.1.9                    py35_0  \n",
      "spyder                    2.3.9                    py35_0  \n",
      "sqlalchemy                1.0.13                   py35_0  \n",
      "sqlite                    3.13.0                        0  \n",
      "sqlparse                  0.2.3                     <pip>\n",
      "statsmodels               0.6.1               np111py35_1  \n",
      "sympy                     1.0                      py35_0  \n",
      "terminado                 0.6                      py35_0  \n",
      "tk                        8.5.18                        0  \n",
      "toolz                     0.8.0                    py35_0  \n",
      "tornado                   4.3                      py35_1  \n",
      "traitlets                 4.2.1                    py35_0  \n",
      "unicodecsv                0.14.1                   py35_0  \n",
      "werkzeug                  0.11.10                  py35_0  \n",
      "wheel                     0.29.0                   py35_0  \n",
      "xlrd                      1.0.0                    py35_0  \n",
      "xlsxwriter                0.9.2                    py35_0  \n",
      "xlwings                   0.7.2                    py35_0  \n",
      "xlwt                      1.1.2                    py35_0  \n",
      "xz                        5.2.2                         0  \n",
      "yaml                      0.1.6                         0  \n",
      "zlib                      1.2.8                         3  \n"
     ]
    }
   ],
   "source": [
    "!conda list"
   ]
  },
  {
   "cell_type": "markdown",
   "metadata": {},
   "source": [
    "\"pandas_datareader\" package is not installed!"
   ]
  },
  {
   "cell_type": "code",
   "execution_count": 15,
   "metadata": {
    "collapsed": false
   },
   "outputs": [],
   "source": [
    "import numpy as np\n",
    "import pandas as pd\n",
    "import pandas_datareader.data as web\n",
    "import datetime"
   ]
  },
  {
   "cell_type": "markdown",
   "metadata": {},
   "source": [
    "Second, retrieve the data from, say, Google :"
   ]
  },
  {
   "cell_type": "code",
   "execution_count": 16,
   "metadata": {
    "collapsed": false
   },
   "outputs": [],
   "source": [
    "start = datetime.datetime(2009, 3, 14)\n",
    "end = datetime.datetime(2014, 4, 14)\n",
    "\n",
    "goog = web.DataReader('GOOG', 'google', start, end)"
   ]
  },
  {
   "cell_type": "code",
   "execution_count": 17,
   "metadata": {
    "collapsed": false
   },
   "outputs": [
    {
     "data": {
      "text/html": [
       "<div>\n",
       "<table border=\"1\" class=\"dataframe\">\n",
       "  <thead>\n",
       "    <tr style=\"text-align: right;\">\n",
       "      <th></th>\n",
       "      <th>Open</th>\n",
       "      <th>High</th>\n",
       "      <th>Low</th>\n",
       "      <th>Close</th>\n",
       "      <th>Volume</th>\n",
       "    </tr>\n",
       "    <tr>\n",
       "      <th>Date</th>\n",
       "      <th></th>\n",
       "      <th></th>\n",
       "      <th></th>\n",
       "      <th></th>\n",
       "      <th></th>\n",
       "    </tr>\n",
       "  </thead>\n",
       "  <tbody>\n",
       "    <tr>\n",
       "      <th>2014-04-08</th>\n",
       "      <td>542.60</td>\n",
       "      <td>555.00</td>\n",
       "      <td>541.61</td>\n",
       "      <td>554.90</td>\n",
       "      <td>3152406.0</td>\n",
       "    </tr>\n",
       "    <tr>\n",
       "      <th>2014-04-09</th>\n",
       "      <td>559.62</td>\n",
       "      <td>565.37</td>\n",
       "      <td>552.95</td>\n",
       "      <td>564.14</td>\n",
       "      <td>3324742.0</td>\n",
       "    </tr>\n",
       "    <tr>\n",
       "      <th>2014-04-10</th>\n",
       "      <td>565.00</td>\n",
       "      <td>565.00</td>\n",
       "      <td>539.90</td>\n",
       "      <td>540.95</td>\n",
       "      <td>4027743.0</td>\n",
       "    </tr>\n",
       "    <tr>\n",
       "      <th>2014-04-11</th>\n",
       "      <td>532.55</td>\n",
       "      <td>540.00</td>\n",
       "      <td>526.53</td>\n",
       "      <td>530.60</td>\n",
       "      <td>3916171.0</td>\n",
       "    </tr>\n",
       "    <tr>\n",
       "      <th>2014-04-14</th>\n",
       "      <td>538.25</td>\n",
       "      <td>544.10</td>\n",
       "      <td>529.56</td>\n",
       "      <td>532.52</td>\n",
       "      <td>2568020.0</td>\n",
       "    </tr>\n",
       "  </tbody>\n",
       "</table>\n",
       "</div>"
      ],
      "text/plain": [
       "              Open    High     Low   Close     Volume\n",
       "Date                                                 \n",
       "2014-04-08  542.60  555.00  541.61  554.90  3152406.0\n",
       "2014-04-09  559.62  565.37  552.95  564.14  3324742.0\n",
       "2014-04-10  565.00  565.00  539.90  540.95  4027743.0\n",
       "2014-04-11  532.55  540.00  526.53  530.60  3916171.0\n",
       "2014-04-14  538.25  544.10  529.56  532.52  2568020.0"
      ]
     },
     "execution_count": 17,
     "metadata": {},
     "output_type": "execute_result"
    }
   ],
   "source": [
    "goog.tail()"
   ]
  },
  {
   "cell_type": "code",
   "execution_count": 18,
   "metadata": {
    "collapsed": false
   },
   "outputs": [
    {
     "data": {
      "text/plain": [
       "Date\n",
       "2014-04-08    542.60\n",
       "2014-04-09    559.62\n",
       "2014-04-10    565.00\n",
       "2014-04-11    532.55\n",
       "2014-04-14    538.25\n",
       "Name: Open, dtype: float64"
      ]
     },
     "execution_count": 18,
     "metadata": {},
     "output_type": "execute_result"
    }
   ],
   "source": [
    "goog['Open'].tail()"
   ]
  },
  {
   "cell_type": "markdown",
   "metadata": {},
   "source": [
    "Third, implement the necessary analytics for the volatilities:"
   ]
  },
  {
   "cell_type": "code",
   "execution_count": 19,
   "metadata": {
    "collapsed": false
   },
   "outputs": [
    {
     "name": "stderr",
     "output_type": "stream",
     "text": [
      "/Users/yoonjoonlee/anaconda/lib/python3.5/site-packages/ipykernel/__main__.py:2: FutureWarning: pd.rolling_std is deprecated for Series and will be removed in a future version, replace with \n",
      "\tSeries.rolling(center=False,window=252).std()\n",
      "  from ipykernel import kernelapp as app\n"
     ]
    }
   ],
   "source": [
    "goog['Log_Ret'] = np.log(goog['Close'] / goog['Close'].shift(1))\n",
    "goog['Volatility'] = pd.rolling_std(goog['Log_Ret'], window=252) * np.sqrt(252)"
   ]
  },
  {
   "cell_type": "code",
   "execution_count": 20,
   "metadata": {
    "collapsed": true
   },
   "outputs": [],
   "source": [
    "goog['Volatility'] = goog['Log_Ret'].rolling(window=252,center=False).std() * np.sqrt(252)"
   ]
  },
  {
   "cell_type": "markdown",
   "metadata": {},
   "source": [
    "Fourth, plot the results."
   ]
  },
  {
   "cell_type": "code",
   "execution_count": 21,
   "metadata": {
    "collapsed": true
   },
   "outputs": [],
   "source": [
    "%matplotlib inline"
   ]
  },
  {
   "cell_type": "code",
   "execution_count": 22,
   "metadata": {
    "collapsed": false
   },
   "outputs": [
    {
     "data": {
      "text/plain": [
       "array([<matplotlib.axes._subplots.AxesSubplot object at 0x1151cb7f0>,\n",
       "       <matplotlib.axes._subplots.AxesSubplot object at 0x117599b38>], dtype=object)"
      ]
     },
     "execution_count": 22,
     "metadata": {},
     "output_type": "execute_result"
    },
    {
     "data": {
      "image/png": "[encoded data removed]",
      "text/plain": [
       "<matplotlib.figure.Figure at 0x1151bee48>"
      ]
     },
     "metadata": {},
     "output_type": "display_data"
    }
   ],
   "source": [
    "goog[['Close', 'Volatility']].plot(subplots=True, color='blue', figsize=(8, 6))"
   ]
  },
  {
   "cell_type": "markdown",
   "metadata": {},
   "source": [
    "#### Ensuring high performance"
   ]
  },
  {
   "cell_type": "markdown",
   "metadata": {},
   "source": [
    "Due to the very nature of Python being an interpreted language, the _prejudice_ persists that Python generally is too slow for compute-intensive tasks in finance. . In principle, one can distinguish at least three different strategies for better performance:\n",
    "* Paradigm\n",
    "* Compiling\n",
    "* Parallelization"
   ]
  },
  {
   "cell_type": "markdown",
   "metadata": {},
   "source": [
    "A quite common task in financial analytics is to evaluate complex mathematical expressions on large arrays of numbers. To this end, Python itself provides everything needed:"
   ]
  },
  {
   "cell_type": "code",
   "execution_count": 23,
   "metadata": {
    "collapsed": false
   },
   "outputs": [
    {
     "name": "stdout",
     "output_type": "stream",
     "text": [
      "1 loop, best of 3: 26.9 s per loop\n"
     ]
    }
   ],
   "source": [
    "loops = 25000000\n",
    "from math import *\n",
    "a = range(1, loops)\n",
    "def f(x):\n",
    "    return 3 * log(x) + cos(x) ** 2\n",
    "\n",
    "%timeit r = [f(x) for x in a]"
   ]
  },
  {
   "cell_type": "markdown",
   "metadata": {},
   "source": [
    "The same task can be implemented using <code>NumPy</code>, which provides optimized (i.e., _pre-compiled_), functions to handle such array-based operations:"
   ]
  },
  {
   "cell_type": "code",
   "execution_count": 24,
   "metadata": {
    "collapsed": false
   },
   "outputs": [
    {
     "name": "stdout",
     "output_type": "stream",
     "text": [
      "1 loop, best of 3: 2.03 s per loop\n"
     ]
    }
   ],
   "source": [
    "import numpy as np\n",
    "\n",
    "a = np.arange(1, loops)\n",
    "\n",
    "%timeit r = 3 * np.log(a) + np.cos(a) ** 2"
   ]
  },
  {
   "cell_type": "markdown",
   "metadata": {},
   "source": [
    "There is even a library specifically dedicated to this kind of task. It is called <code>numexpr</code>, for “numerical expressions.” It _compiles_ the expression to improve upon the performance of NumPy’s general functionality by:"
   ]
  },
  {
   "cell_type": "code",
   "execution_count": 25,
   "metadata": {
    "collapsed": false
   },
   "outputs": [
    {
     "name": "stdout",
     "output_type": "stream",
     "text": [
      "1 loop, best of 3: 679 ms per loop\n"
     ]
    }
   ],
   "source": [
    "import numexpr as ne\n",
    "\n",
    "ne.set_num_threads(1)\n",
    "f = '3 * log(a) + cos(a) ** 2'\n",
    "\n",
    "%timeit r = ne.evaluate(f)"
   ]
  },
  {
   "cell_type": "markdown",
   "metadata": {},
   "source": [
    "<code>numexpr</code> also has built-in capabilities to parallelize the execution of the respective operation. This allows us to use all available threads of a CPU:"
   ]
  },
  {
   "cell_type": "code",
   "execution_count": 26,
   "metadata": {
    "collapsed": false
   },
   "outputs": [
    {
     "name": "stdout",
     "output_type": "stream",
     "text": [
      "1 loop, best of 3: 287 ms per loop\n"
     ]
    }
   ],
   "source": [
    "ne.set_num_threads(4)\n",
    "\n",
    "%timeit r = ne.evaluate(f)"
   ]
  },
  {
   "cell_type": "markdown",
   "metadata": {},
   "source": [
    "### From Prototyping to Production"
   ]
  },
  {
   "cell_type": "markdown",
   "metadata": {},
   "source": [
    "Efficiency in interactive analytics and performance when it comes to execution speed are certainly two benefits of Python to consider. \n",
    "- Yet another major benefit of using Python for finance might at first sight seem a bit subtler; \n",
    "- at second sight it might present itself as an important strategic factor. \n",
    "\n",
    "It is the possibility to use Python end to end, from prototyping to production."
   ]
  },
  {
   "cell_type": "markdown",
   "metadata": {},
   "source": [
    "Today’s practice in financial institutions is often characterized by a separated, two-step process. \n",
    "1. There are the _quantitative analysts (“quants”)_ responsible for model development and technical prototyping. One is mainly looking for a proof of concept and/or a prototype that exhibits the main desired features of an algorithm or a whole application.\n",
    "2. IT departments with their _developers_ take over and are responsible for translating the existing _prototype code_ into reliable, maintainable, and performant _production code_.\n",
    "\n",
    "This two-step approach has a number of generally unintended consequences:\n",
    "* Inefficiencies\n",
    "* Diverse skill set\n",
    "* Legacy code"
   ]
  },
  {
   "cell_type": "markdown",
   "metadata": {},
   "source": [
    "Using Python, on the other hand, enables a _streamlined_ end-to-end process from the first interactive prototyping steps to highly reliable and efficiently maintainable production code."
   ]
  }
 ],
 "metadata": {
  "anaconda-cloud": {},
  "kernelspec": {
   "display_name": "Python 3",
   "language": "python",
   "name": "python3"
  },
  "language_info": {
   "codemirror_mode": {
    "name": "ipython",
    "version": 3
   },
   "file_extension": ".py",
   "mimetype": "text/x-python",
   "name": "python",
   "nbconvert_exporter": "python",
   "pygments_lexer": "ipython3",
   "version": "3.6.0"
  }
 },
 "nbformat": 4,
 "nbformat_minor": 2
}
