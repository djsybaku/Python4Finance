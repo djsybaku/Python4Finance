{
 "cells": [
  {
   "cell_type": "markdown",
   "metadata": {},
   "source": [
    "# Why Python For Finance?"
   ]
  },
  {
   "cell_type": "markdown",
   "metadata": {},
   "source": [
    "## What is Python?"
   ]
  },
  {
   "cell_type": "markdown",
   "metadata": {},
   "source": [
    "Python is an **_interpreted_, _object-oriented_, _high-level programming language_** with **_dynamic semantics_**. \n",
    "\n",
    "Its high-level built in data structures, combined with **_dynamic typing_** and **_dynamic binding_**, make it very attractive for **Rapid Application Development**, as well as for use as a **scripting** or **glue** language to connect existing components together. \n",
    "\n",
    "Python’s simple, easy to learn syntax emphasizes **readability** and therefore reduces the cost of program maintenance.\n",
    "\n",
    "Python supports **modules** and **packages**, which encourages program **modularity** and **code reuse**. \n",
    "\n",
    "The Python interpreter and the extensive standard library are available in source or binary form without charge for all major platforms, and can be freely distributed."
   ]
  },
  {
   "cell_type": "markdown",
   "metadata": {},
   "source": [
    "Python is characterized by the following features:\n",
    "- Open source\n",
    "- Interpreted\n",
    "- Multiparadigm\n",
    "- Multipurpose\n",
    "- Corss-platform\n",
    "- Dynamically typed\n",
    "- Indentation aware\n",
    "- Garbage Collecting"
   ]
  },
  {
   "cell_type": "code",
   "execution_count": null,
   "metadata": {
    "collapsed": false
   },
   "outputs": [],
   "source": [
    "import this"
   ]
  },
  {
   "cell_type": "markdown",
   "metadata": {},
   "source": [
    "### Brief History of Python"
   ]
  },
  {
   "cell_type": "markdown",
   "metadata": {},
   "source": [
    "Development efforts began in the 1980s by **Guido van Rossum** from the Netherlands\n",
    "- Python 0.9.0 released in 1991 (first release)\n",
    "- ...\n",
    "- Python 2.7 released in 2010\n",
    "- ...\n",
    "- Python 3.4 released in 2014\n",
    "- Python 3.6"
   ]
  },
  {
   "cell_type": "markdown",
   "metadata": {},
   "source": [
    "### The Python Ecosystem"
   ]
  },
  {
   "cell_type": "markdown",
   "metadata": {},
   "source": [
    "**Availability of a large number of libraries and tools**\n",
    "\n",
    "These libraries and tools generally have to be _imported_ when needed (e.g., a plotting library) or have to be started as a separate system process (e.g., a Python development environment). \n",
    "\n",
    "_Importing_ means making a library available to the current namespace and the current Python interpreter process."
   ]
  },
  {
   "cell_type": "code",
   "execution_count": null,
   "metadata": {
    "collapsed": false
   },
   "outputs": [],
   "source": [
    "100 * 2.5 + 50"
   ]
  },
  {
   "cell_type": "code",
   "execution_count": null,
   "metadata": {
    "collapsed": false
   },
   "outputs": [],
   "source": [
    "log(1)"
   ]
  },
  {
   "cell_type": "code",
   "execution_count": null,
   "metadata": {
    "collapsed": true
   },
   "outputs": [],
   "source": [
    "from math import *"
   ]
  },
  {
   "cell_type": "code",
   "execution_count": null,
   "metadata": {
    "collapsed": false
   },
   "outputs": [],
   "source": [
    "log(1)"
   ]
  },
  {
   "cell_type": "code",
   "execution_count": null,
   "metadata": {
    "collapsed": true
   },
   "outputs": [],
   "source": [
    "import math"
   ]
  },
  {
   "cell_type": "code",
   "execution_count": null,
   "metadata": {
    "collapsed": false
   },
   "outputs": [],
   "source": [
    "math.log(1)"
   ]
  },
  {
   "cell_type": "markdown",
   "metadata": {},
   "source": [
    "_math_ is a standard Python library available with any installation."
   ]
  },
  {
   "cell_type": "markdown",
   "metadata": {},
   "source": [
    "**IPython** is also sometimes called the killer application of the Python ecosystem."
   ]
  },
  {
   "cell_type": "code",
   "execution_count": null,
   "metadata": {
    "collapsed": true
   },
   "outputs": [],
   "source": [
    "math.log?"
   ]
  },
  {
   "cell_type": "markdown",
   "metadata": {},
   "source": [
    "IPython comes in three different versions: a _shell_ version, one based on a _QT_ graphical user interface (the _QT console_), and a browser-based version (the _Notebook_). "
   ]
  },
  {
   "cell_type": "markdown",
   "metadata": {},
   "source": [
    "### Python User Spectrum"
   ]
  },
  {
   "cell_type": "markdown",
   "metadata": {},
   "source": [
    "Not only for professional software developers also for the casual developer as well as for domain experts and scientific developers.\n",
    "- _Professional software developers_ find all that they need to efficiently build large applications. Almost all programming paradigms are supported; there are powerful development tools available; and any task can, \n",
    "- _Scientific developers_ or _domain experts_ are generally heavy users of certain libraries and frameworks, have built their own applications that they enhance and optimize over time, and tailor the ecosystem to their specific needs. These groups of users also generally engage in longer interactive sessions, rapidly prototyping new code as well as exploring and visualizing their research and/or domain data sets.\n",
    "- _Casual programmers_ like to use Python generally for specific problems they know that Python has its strengths in."
   ]
  },
  {
   "cell_type": "markdown",
   "metadata": {},
   "source": [
    "### The Scientific Stack"
   ]
  },
  {
   "cell_type": "markdown",
   "metadata": {},
   "source": [
    "The set of libraries:\n",
    "- NumPy\n",
    "- SciPy\n",
    "- matplotlib\n",
    "- Pytables\n",
    "- Pandas"
   ]
  },
  {
   "cell_type": "markdown",
   "metadata": {},
   "source": [
    "## Technology in Finance"
   ]
  },
  {
   "cell_type": "markdown",
   "metadata": {},
   "source": [
    "Contemplate the role of technology in finance\n",
    "\n",
    "In recent years, spurred by innovation and also regulation, banks and other financial institutions like hedge funds have evolved more and more into technology companies instead of being just financial intermediaries."
   ]
  },
  {
   "cell_type": "markdown",
   "metadata": {},
   "source": [
    "### Technology Spending"
   ]
  },
  {
   "cell_type": "markdown",
   "metadata": {},
   "source": [
    "Not only technology is important for the financial industry, but the financial industry is also really important to the technology sector:"
   ]
  },
  {
   "cell_type": "markdown",
   "metadata": {},
   "source": [
    "> Banks will spend 4.2% more on technology in 2014 than they did in 2013, according to IDC analysts. \n",
    "Overall IT spend in financial services globally will exceed \\$430 billion in 2014 and surpass \\$500 billion by 2020, the analysts say. \n",
    "> <div style=\"text-align: right\">— Crosman 2013</div>"
   ]
  },
  {
   "cell_type": "markdown",
   "metadata": {},
   "source": [
    "### Technology as Enabler"
   ]
  },
  {
   "cell_type": "markdown",
   "metadata": {},
   "source": [
    "> Technological innovations have contributed significantly to greater efficiency in the derivatives market. Through innovations in trading technology, trades at Eurex are today executed much faster than ten years ago despite the strong increase in trading volume and the number of quotes … These strong improvements have only been possible due to the constant, high IT investments by derivatives exchanges and clearing houses.\n",
    "\n",
    "> <div style=\"text-align: right\"> — Deutsche Börse Group 2008</div>"
   ]
  },
  {
   "cell_type": "markdown",
   "metadata": {},
   "source": [
    "### Technology and Talent as Barriers to Entry"
   ]
  },
  {
   "cell_type": "markdown",
   "metadata": {},
   "source": [
    "> Aggregated over the total software lifecycle, firms adopting in-house strategies for OTC [derivatives] pricing will require investments between \\$25 million and \\$36 million alone to build, maintain, and enhance a complete derivatives library.\n",
    "\n",
    "> <div style=\"text-align: right\">— Ding 2010 </div>"
   ]
  },
  {
   "cell_type": "markdown",
   "metadata": {},
   "source": [
    "> Meriwether spent \\$20 million on a state-of-the-art computer system and hired a crack team of financial engineers to run the show at LTCM, which set up shop in Greenwich, Connecticut. It was risk management on an industrial level.\n",
    "> <div style=\"text-align: right\"> — Patterson 2010 </div>"
   ]
  },
  {
   "cell_type": "markdown",
   "metadata": {},
   "source": [
    "### Ever-Increasing Speeds, Frequencies, Data Volumes"
   ]
  },
  {
   "cell_type": "markdown",
   "metadata": {},
   "source": [
    "> Renaissance’s Medallion fund gained an astonishing 80 percent in 2008, capitalizing on the market’s extreme volatility with its lightning-fast computers. Jim Simons was the hedge fund world’s top earner for the year, pocketing a cool \\$2.5 billion.\n",
    "\n",
    "> <div style=\"text-align: right\"> — Patterson 2010 </div>"
   ]
  },
  {
   "cell_type": "markdown",
   "metadata": {},
   "source": [
    "A number of challenges:\n",
    "- Data processing\n",
    "- Analytics speed\n",
    "- Theoretical foundations"
   ]
  },
  {
   "cell_type": "markdown",
   "metadata": {},
   "source": [
    "### The Rise of Real-Time Analytics"
   ]
  },
  {
   "cell_type": "markdown",
   "metadata": {},
   "source": [
    "Speeds, frequencies, and data volumes increase at a rapid pace in the industry. In fact, real-time analytics can be considered the industry’s answer to this trend."
   ]
  },
  {
   "cell_type": "markdown",
   "metadata": {},
   "source": [
    "“Financial and data analytics” refers to the discipline of applying software and technology in combination with (possibly advanced) algorithms and methods to gather, process, and analyze data in order to gain insights, to make decisions, or to fulfill regulatory requirements."
   ]
  },
  {
   "cell_type": "markdown",
   "metadata": {},
   "source": [
    "Two major challenges that financial institutions:\n",
    "- Big data\n",
    "- Real-time economy"
   ]
  },
  {
   "cell_type": "markdown",
   "metadata": {},
   "source": [
    "One can observe an interplay between advances in technology and financial/business practice.\n",
    "\n",
    "One major trend in the analytics space has been the utilization of parallel architectures on the CPU (central processing unit) side and massively parallel architectures on the GPGPU (general-purpose graphical processing units) side. "
   ]
  },
  {
   "cell_type": "markdown",
   "metadata": {},
   "source": [
    "## Python for Finance"
   ]
  },
  {
   "cell_type": "markdown",
   "metadata": {},
   "source": [
    "Explain how Python can help in several of the challenges."
   ]
  },
  {
   "cell_type": "markdown",
   "metadata": {
    "collapsed": true
   },
   "source": [
    "### Finance and Python Syntax"
   ]
  },
  {
   "cell_type": "markdown",
   "metadata": {},
   "source": [
    "The Python syntax is generally quite close to the mathematical syntax used to describe scientific problems or financial algorithms. To illustrate this phenomenon, we will consider a Black-Scholes-Merton (BSM) setup (see also later) in which the option’s underlying risk factor follows a geometric Brownian motion. "
   ]
  },
  {
   "cell_type": "markdown",
   "metadata": {},
   "source": [
    "Suppose we have the following numerical parameter values for the valuation:\n",
    "* Initial stock index level S0 = 100\n",
    "* Strike price of the European call option K = 105\n",
    "* Time-to-maturity T = 1 year\n",
    "* Constant, riskless short rate r = 5%\n",
    "* Constant volatility = 20%"
   ]
  },
  {
   "cell_type": "markdown",
   "metadata": {},
   "source": [
    "**Equation 1-1**. _Black-Scholes-Merton (1973) index level at maturity_\n",
    "\n",
    "$$ S_{T} = S_{0} \\exp ((r - \\frac{1}{2}\\sigma^2)T + \\sigma \\sqrt{T} z)$$ "
   ]
  },
  {
   "cell_type": "markdown",
   "metadata": {},
   "source": [
    "An algorithmic description of the Monte Carlo valuation procedure:\n",
    "1. Draw I (pseudo)random numbers z(i), i ∈ {1, 2, …, I}, from the standard normal distribution.\n",
    "2.\tCalculate all resulting index levels at maturity ST(i) for given z(i) and Equation 1-1.\n",
    "3.\tCalculate all inner values of the option at maturity as hT(i) = max(ST(i) – K,0).\n",
    "4.\tEstimate the option present value via the Monte Carlo estimator given in Equation 1-2."
   ]
  },
  {
   "cell_type": "markdown",
   "metadata": {},
   "source": [
    "**Equation 1-2**. _Monte Carlo estimator for European option_\n",
    "\n",
    "$$ C_{0} \\approx e^{-rT} \\frac{1}{I}\\sum_{I}h_{T}(i)$$"
   ]
  },
  {
   "cell_type": "code",
   "execution_count": null,
   "metadata": {
    "collapsed": true
   },
   "outputs": [],
   "source": [
    "S0 = 100.\n",
    "K = 105.\n",
    "T = 1.0\n",
    "r = 0.05\n",
    "sigma = 0.2"
   ]
  },
  {
   "cell_type": "code",
   "execution_count": null,
   "metadata": {
    "collapsed": true
   },
   "outputs": [],
   "source": [
    "from numpy import *"
   ]
  },
  {
   "cell_type": "code",
   "execution_count": null,
   "metadata": {
    "collapsed": true
   },
   "outputs": [],
   "source": [
    "I = 100000"
   ]
  },
  {
   "cell_type": "code",
   "execution_count": null,
   "metadata": {
    "collapsed": true
   },
   "outputs": [],
   "source": [
    "z = random.standard_normal(I)\n",
    "ST = S0 * exp((r - 0.5 * sigma ** 2) * T + sigma * sqrt(T) * z)\n",
    "hT = maximum(ST - K, 0)\n",
    "C0 = exp(-r * T) * sum(hT) / I"
   ]
  },
  {
   "cell_type": "code",
   "execution_count": null,
   "metadata": {
    "collapsed": false
   },
   "outputs": [],
   "source": [
    "print(\"Value of the European Call Option %5.3f\" %C0)"
   ]
  },
  {
   "cell_type": "markdown",
   "metadata": {},
   "source": [
    "Three aspects are worth considering:\n",
    "* Syntax\n",
    "* Translation\n",
    "* Vectorization"
   ]
  },
  {
   "cell_type": "markdown",
   "metadata": {},
   "source": [
    "If the code is reused regularly, it typically gets organized in so-called modules (or scripts), which are single Python (i.e., text) files with the suffix .py. "
   ]
  },
  {
   "cell_type": "code",
   "execution_count": null,
   "metadata": {
    "collapsed": false
   },
   "outputs": [],
   "source": [
    "#\n",
    "# Monte Carlo valuation of European call option\n",
    "# in Black-Scholes-Merton model\n",
    "# bsm_mcs_euro.py\n",
    "#\n",
    "import numpy as np\n",
    "\n",
    "# Parameter Values\n",
    "S0 = 100.\t# initial index level\n",
    "K = 105.\t# strike price\n",
    "T = 1.0\t# time-to-maturity\n",
    "r = 0.05\t# riskless short rate\n",
    "sigma = 0.2\t# volatility\n",
    "\n",
    "I = 100000\t# number of simulations\n",
    "\n",
    "# Valuation Algorithm\n",
    "z = np.random.standard_normal(I)\t# pseudorandom numbers\n",
    "ST = S0 * np.exp((r - 0.5 * sigma ** 2) * T + sigma * np.sqrt(T) * z)\n",
    "\n",
    "# index values at maturity\n",
    "hT = np.maximum(ST - K, 0)\t# inner values at maturity\n",
    "C0 = np.exp(-r * T) * np.sum(hT) / I\t# Monte Carlo estimator\n",
    "\n",
    "# Result Output\n",
    "print(\"Value of the European Call Option %5.3f\" %C0)"
   ]
  },
  {
   "cell_type": "markdown",
   "metadata": {},
   "source": [
    "* **English** for writing, talking about scientific and financial problems, etc. \n",
    "* **Mathematics** for concisely and exactly describing and modeling abstract aspects, algorithms, complex quantities, etc.\n",
    "* **Python** for technically modeling and implementing abstract aspects, algorithms, complex quantities, etc."
   ]
  },
  {
   "cell_type": "markdown",
   "metadata": {},
   "source": [
    "### Efficiency and Productivity Through Python"
   ]
  },
  {
   "cell_type": "markdown",
   "metadata": {},
   "source": [
    "Benefits from using Python can be measured in three dimensions:\n",
    "* Efficiency\n",
    "* Productivity\n",
    "* Quality"
   ]
  },
  {
   "cell_type": "markdown",
   "metadata": {},
   "source": [
    "Consider a finance student, writing her master’s thesis and interested in Google stock prices. She wants to analyze historical stock price information for, say, five years to see how the volatility of the stock price has fluctuated over time. She wants to find evidence that volatility, in contrast to some typical model assumptions, fluctuates over time and is far from being constant. The results should also be visualized. She mainly has to do the following:\n",
    "* Download Google stock price data from the Web.\n",
    "* Calculate the rolling standard deviation of the log returns (volatility).\n",
    "* Plot the stock price data and the results."
   ]
  },
  {
   "cell_type": "markdown",
   "metadata": {},
   "source": [
    "First, make sure to have available all necessary libraries:"
   ]
  },
  {
   "cell_type": "code",
   "execution_count": null,
   "metadata": {
    "collapsed": false
   },
   "outputs": [],
   "source": [
    "!conda list"
   ]
  },
  {
   "cell_type": "markdown",
   "metadata": {},
   "source": [
    "\"pandas_datareader\" package is not installed!"
   ]
  },
  {
   "cell_type": "code",
   "execution_count": null,
   "metadata": {
    "collapsed": false
   },
   "outputs": [],
   "source": [
    "import numpy as np\n",
    "import pandas as pd\n",
    "import pandas_datareader.data as web\n",
    "import datetime"
   ]
  },
  {
   "cell_type": "markdown",
   "metadata": {},
   "source": [
    "Second, retrieve the data from, say, Google :"
   ]
  },
  {
   "cell_type": "code",
   "execution_count": null,
   "metadata": {
    "collapsed": false
   },
   "outputs": [],
   "source": [
    "start = datetime.datetime(2009, 3, 14)\n",
    "end = datetime.datetime(2014, 4, 14)\n",
    "\n",
    "goog = web.DataReader('GOOG', 'google', start, end)"
   ]
  },
  {
   "cell_type": "code",
   "execution_count": null,
   "metadata": {
    "collapsed": false
   },
   "outputs": [],
   "source": [
    "goog.tail()"
   ]
  },
  {
   "cell_type": "code",
   "execution_count": null,
   "metadata": {
    "collapsed": false
   },
   "outputs": [],
   "source": [
    "goog['Open'].tail()"
   ]
  },
  {
   "cell_type": "markdown",
   "metadata": {},
   "source": [
    "Third, implement the necessary analytics for the volatilities:"
   ]
  },
  {
   "cell_type": "code",
   "execution_count": null,
   "metadata": {
    "collapsed": false
   },
   "outputs": [],
   "source": [
    "goog['Log_Ret'] = np.log(goog['Close'] / goog['Close'].shift(1))\n",
    "goog['Volatility'] = pd.rolling_std(goog['Log_Ret'], window=252) * np.sqrt(252)"
   ]
  },
  {
   "cell_type": "code",
   "execution_count": null,
   "metadata": {
    "collapsed": true
   },
   "outputs": [],
   "source": [
    "goog['Volatility'] = goog['Log_Ret'].rolling(window=252,center=False).std() * np.sqrt(252)"
   ]
  },
  {
   "cell_type": "markdown",
   "metadata": {},
   "source": [
    "Fourth, plot the results."
   ]
  },
  {
   "cell_type": "code",
   "execution_count": null,
   "metadata": {
    "collapsed": true
   },
   "outputs": [],
   "source": [
    "%matplotlib inline"
   ]
  },
  {
   "cell_type": "code",
   "execution_count": null,
   "metadata": {
    "collapsed": false
   },
   "outputs": [],
   "source": [
    "goog[['Close', 'Volatility']].plot(subplots=True, color='blue', figsize=(8, 6))"
   ]
  },
  {
   "cell_type": "markdown",
   "metadata": {},
   "source": [
    "#### Ensuring high performance"
   ]
  },
  {
   "cell_type": "markdown",
   "metadata": {},
   "source": [
    "Due to the very nature of Python being an interpreted language, the _prejudice_ persists that Python generally is too slow for compute-intensive tasks in finance. . In principle, one can distinguish at least three different strategies for better performance:\n",
    "* Paradigm\n",
    "* Compiling\n",
    "* Parallelization"
   ]
  },
  {
   "cell_type": "markdown",
   "metadata": {},
   "source": [
    "A quite common task in financial analytics is to evaluate complex mathematical expressions on large arrays of numbers. To this end, Python itself provides everything needed:"
   ]
  },
  {
   "cell_type": "code",
   "execution_count": null,
   "metadata": {
    "collapsed": false
   },
   "outputs": [],
   "source": [
    "loops = 25000000\n",
    "from math import *\n",
    "a = range(1, loops)\n",
    "def f(x):\n",
    "    return 3 * log(x) + cos(x) ** 2\n",
    "\n",
    "%timeit r = [f(x) for x in a]"
   ]
  },
  {
   "cell_type": "markdown",
   "metadata": {},
   "source": [
    "The same task can be implemented using <code>NumPy</code>, which provides optimized (i.e., _pre-compiled_), functions to handle such array-based operations:"
   ]
  },
  {
   "cell_type": "code",
   "execution_count": null,
   "metadata": {
    "collapsed": false
   },
   "outputs": [],
   "source": [
    "import numpy as np\n",
    "\n",
    "a = np.arange(1, loops)\n",
    "\n",
    "%timeit r = 3 * np.log(a) + np.cos(a) ** 2"
   ]
  },
  {
   "cell_type": "markdown",
   "metadata": {},
   "source": [
    "There is even a library specifically dedicated to this kind of task. It is called <code>numexpr</code>, for “numerical expressions.” It _compiles_ the expression to improve upon the performance of NumPy’s general functionality by:"
   ]
  },
  {
   "cell_type": "code",
   "execution_count": null,
   "metadata": {
    "collapsed": false
   },
   "outputs": [],
   "source": [
    "import numexpr as ne\n",
    "\n",
    "ne.set_num_threads(1)\n",
    "f = '3 * log(a) + cos(a) ** 2'\n",
    "\n",
    "%timeit r = ne.evaluate(f)"
   ]
  },
  {
   "cell_type": "markdown",
   "metadata": {},
   "source": [
    "<code>numexpr</code> also has built-in capabilities to parallelize the execution of the respective operation. This allows us to use all available threads of a CPU:"
   ]
  },
  {
   "cell_type": "code",
   "execution_count": null,
   "metadata": {
    "collapsed": false
   },
   "outputs": [],
   "source": [
    "ne.set_num_threads(4)\n",
    "\n",
    "%timeit r = ne.evaluate(f)"
   ]
  },
  {
   "cell_type": "markdown",
   "metadata": {},
   "source": [
    "### From Prototyping to Production"
   ]
  },
  {
   "cell_type": "markdown",
   "metadata": {},
   "source": [
    "Efficiency in interactive analytics and performance when it comes to execution speed are certainly two benefits of Python to consider. \n",
    "- Yet another major benefit of using Python for finance might at first sight seem a bit subtler; \n",
    "- at second sight it might present itself as an important strategic factor. \n",
    "\n",
    "It is the possibility to use Python end to end, from prototyping to production."
   ]
  },
  {
   "cell_type": "markdown",
   "metadata": {},
   "source": [
    "Today’s practice in financial institutions is often characterized by a separated, two-step process. \n",
    "1. There are the _quantitative analysts (“quants”)_ responsible for model development and technical prototyping. One is mainly looking for a proof of concept and/or a prototype that exhibits the main desired features of an algorithm or a whole application.\n",
    "2. IT departments with their _developers_ take over and are responsible for translating the existing _prototype code_ into reliable, maintainable, and performant _production code_.\n",
    "\n",
    "This two-step approach has a number of generally unintended consequences:\n",
    "* Inefficiencies\n",
    "* Diverse skill set\n",
    "* Legacy code"
   ]
  },
  {
   "cell_type": "markdown",
   "metadata": {},
   "source": [
    "Using Python, on the other hand, enables a _streamlined_ end-to-end process from the first interactive prototyping steps to highly reliable and efficiently maintainable production code."
   ]
  }
 ],
 "metadata": {
  "anaconda-cloud": {},
  "kernelspec": {
   "display_name": "Python 3",
   "language": "python",
   "name": "python3"
  },
  "language_info": {
   "codemirror_mode": {
    "name": "ipython",
    "version": 3
   },
   "file_extension": ".py",
   "mimetype": "text/x-python",
   "name": "python",
   "nbconvert_exporter": "python",
   "pygments_lexer": "ipython3",
   "version": "3.6.0"
  }
 },
 "nbformat": 4,
 "nbformat_minor": 2
}
